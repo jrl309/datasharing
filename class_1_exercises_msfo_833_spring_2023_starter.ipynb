{
  "nbformat": 4,
  "nbformat_minor": 0,
  "metadata": {
    "colab": {
      "provenance": [],
      "collapsed_sections": [
        "VtujEF_N2LHi"
      ],
      "toc_visible": true,
      "include_colab_link": true
    },
    "kernelspec": {
      "name": "python3",
      "display_name": "Python 3"
    }
  },
  "cells": [
    {
      "cell_type": "markdown",
      "metadata": {
        "id": "view-in-github",
        "colab_type": "text"
      },
      "source": [
        "<a href=\"https://colab.research.google.com/github/jrl309/datasharing/blob/master/class_1_exercises_msfo_833_spring_2023_starter.ipynb\" target=\"_parent\"><img src=\"https://colab.research.google.com/assets/colab-badge.svg\" alt=\"Open In Colab\"/></a>"
      ]
    },
    {
      "cell_type": "markdown",
      "source": [
        "# Instructions\n",
        "\n",
        "\n",
        "\n",
        "1. **Make a copy of this notebook** so you can edit and save your own version of it. Do the work in your copy of the notebook. \n",
        "2. **Update the title of your notebook** to include your name and/or net id.\n",
        "3. Follow along with some Python warmup, as led by the prof.\n",
        "3. Finally, **Write Python code** to address each of the \"Challenges\". \n",
        "\n",
        "> NOTE: Each of the challenges below contains a provided data structure in a setup cell, as well as some questions relating to the provided data structure. For each challenge, run its setup cell to define the provided variable, then write additional code cells below which reference that variable to answer the provided questions."
      ],
      "metadata": {
        "id": "XJwF6JmZOqbx"
      }
    },
    {
      "cell_type": "markdown",
      "source": [
        "# Python Practice / Warmup"
      ],
      "metadata": {
        "id": "W8oUgCwAYQ7o"
      }
    },
    {
      "cell_type": "markdown",
      "source": [
        "## Datatypes"
      ],
      "metadata": {
        "id": "I889cDV6gC_l"
      }
    },
    {
      "cell_type": "code",
      "source": [
        "2 + 2"
      ],
      "metadata": {
        "colab": {
          "base_uri": "https://localhost:8080/"
        },
        "id": "3hT3vDNEYTo6",
        "outputId": "6d11087c-3a5f-45db-b6fc-c75237ea1bd1"
      },
      "execution_count": null,
      "outputs": [
        {
          "output_type": "execute_result",
          "data": {
            "text/plain": [
              "4"
            ]
          },
          "metadata": {},
          "execution_count": 1
        }
      ]
    },
    {
      "cell_type": "code",
      "source": [
        "\"2\" + \"2\""
      ],
      "metadata": {
        "colab": {
          "base_uri": "https://localhost:8080/",
          "height": 35
        },
        "id": "uOmEMpvoYUGc",
        "outputId": "caceaf48-9627-4b10-ffc8-c9123b94fc42"
      },
      "execution_count": null,
      "outputs": [
        {
          "output_type": "execute_result",
          "data": {
            "text/plain": [
              "'22'"
            ],
            "application/vnd.google.colaboratory.intrinsic+json": {
              "type": "string"
            }
          },
          "metadata": {},
          "execution_count": 2
        }
      ]
    },
    {
      "cell_type": "code",
      "source": [
        "# 2 + \"2\" #> TypeError: unsupported operand type(s) for +: 'int' and 'str'"
      ],
      "metadata": {
        "id": "hYjomUiUgO9r"
      },
      "execution_count": null,
      "outputs": []
    },
    {
      "cell_type": "code",
      "source": [
        "\n",
        "print(type(2))\n",
        "\n",
        "\n",
        "print(type(\"2\"))"
      ],
      "metadata": {
        "colab": {
          "base_uri": "https://localhost:8080/"
        },
        "id": "WYPRYWNWYUC1",
        "outputId": "ff864f9a-14ad-4af1-b9da-386f73be57f7"
      },
      "execution_count": null,
      "outputs": [
        {
          "output_type": "stream",
          "name": "stdout",
          "text": [
            "<class 'int'>\n",
            "<class 'str'>\n"
          ]
        }
      ]
    },
    {
      "cell_type": "markdown",
      "source": [
        "## String Operations and Printing"
      ],
      "metadata": {
        "id": "kECz5ACXgFIZ"
      }
    },
    {
      "cell_type": "markdown",
      "source": [
        "The Print Statement"
      ],
      "metadata": {
        "id": "5MvhStjJhgMy"
      }
    },
    {
      "cell_type": "code",
      "source": [
        "print(\"HELLO\")"
      ],
      "metadata": {
        "colab": {
          "base_uri": "https://localhost:8080/"
        },
        "id": "hQ7wxYDoYT_u",
        "outputId": "b65c9d76-fb8b-4bb6-ff4c-f86efb5fb303"
      },
      "execution_count": null,
      "outputs": [
        {
          "output_type": "stream",
          "name": "stdout",
          "text": [
            "HELLO\n"
          ]
        }
      ]
    },
    {
      "cell_type": "markdown",
      "source": [
        "Printing comma separated items introduces a space:"
      ],
      "metadata": {
        "id": "ifwHFRNMhX3e"
      }
    },
    {
      "cell_type": "code",
      "source": [
        "print(\"HELLO\", \"WORLD\")\n",
        "\n",
        "print(\"HELLO\", \"WORLD\", 999)\n",
        "\n",
        "my_list = [1,2,3,4]\n",
        "print(\"HELLO\", \"WORLD\", 999, my_list)\n"
      ],
      "metadata": {
        "colab": {
          "base_uri": "https://localhost:8080/"
        },
        "id": "_mbPBkBDYT9O",
        "outputId": "21bd82f9-4591-4722-99fd-00b09813426c"
      },
      "execution_count": null,
      "outputs": [
        {
          "output_type": "stream",
          "name": "stdout",
          "text": [
            "HELLO WORLD\n",
            "HELLO WORLD 999\n",
            "HELLO WORLD 999 [1, 2, 3, 4]\n"
          ]
        }
      ]
    },
    {
      "cell_type": "markdown",
      "source": [
        "String Concatenation:"
      ],
      "metadata": {
        "id": "41fZNzIsh8mX"
      }
    },
    {
      "cell_type": "code",
      "source": [
        "print(\"HELLO\" + \"WORLD\")"
      ],
      "metadata": {
        "colab": {
          "base_uri": "https://localhost:8080/"
        },
        "id": "31Ja010EgtJr",
        "outputId": "70d9a5fc-3de4-4f14-fb0c-013354b5b340"
      },
      "execution_count": null,
      "outputs": [
        {
          "output_type": "stream",
          "name": "stdout",
          "text": [
            "HELLOWORLD\n"
          ]
        }
      ]
    },
    {
      "cell_type": "code",
      "source": [
        "print(\"HELLO\" + \" WORLD\")\n",
        "print(\"HELLO \" + \"WORLD\")\n",
        "print(\"HELLO\" + \" \" + \"WORLD\")"
      ],
      "metadata": {
        "colab": {
          "base_uri": "https://localhost:8080/"
        },
        "id": "imhf5ncagvE3",
        "outputId": "360d1703-5ce0-4318-ce3c-44e42a2def39"
      },
      "execution_count": null,
      "outputs": [
        {
          "output_type": "stream",
          "name": "stdout",
          "text": [
            "HELLO WORLD\n",
            "HELLO WORLD\n",
            "HELLO WORLD\n"
          ]
        }
      ]
    },
    {
      "cell_type": "markdown",
      "source": [
        "String Interpolation / Format strings:"
      ],
      "metadata": {
        "id": "5koR9nYkhWWL"
      }
    },
    {
      "cell_type": "code",
      "source": [
        "price = 4.99\n",
        "\n",
        "print(\"PRICE:\", price)\n",
        "\n",
        "print(f\"PRICE: {price}\")"
      ],
      "metadata": {
        "colab": {
          "base_uri": "https://localhost:8080/"
        },
        "id": "F1VfsiYRhJlZ",
        "outputId": "da04d186-3aae-4bb0-85da-a0b3310a2f2b"
      },
      "execution_count": null,
      "outputs": [
        {
          "output_type": "stream",
          "name": "stdout",
          "text": [
            "PRICE: 4.99\n",
            "PRICE: 4.99\n"
          ]
        }
      ]
    },
    {
      "cell_type": "markdown",
      "source": [
        "## List Operations"
      ],
      "metadata": {
        "id": "C3x2dWilgc43"
      }
    },
    {
      "cell_type": "code",
      "source": [
        "my_numbers = [1, 2, 3, 4, 5, 6, 7]\n",
        "\n",
        "print(my_numbers)\n"
      ],
      "metadata": {
        "colab": {
          "base_uri": "https://localhost:8080/"
        },
        "id": "yN8v6rg8YTv4",
        "outputId": "08080a8b-6897-43a8-ec9d-3ba0654d1fd7"
      },
      "execution_count": null,
      "outputs": [
        {
          "output_type": "stream",
          "name": "stdout",
          "text": [
            "[1, 2, 3, 4, 5, 6, 7]\n"
          ]
        }
      ]
    },
    {
      "cell_type": "markdown",
      "source": [
        "Counting Items in a List:"
      ],
      "metadata": {
        "id": "0gJJS3VgiQsY"
      }
    },
    {
      "cell_type": "code",
      "source": [
        "print(len(my_numbers))"
      ],
      "metadata": {
        "id": "DFWpHovUiQMz",
        "colab": {
          "base_uri": "https://localhost:8080/"
        },
        "outputId": "ba7e0917-afcb-44c8-f42e-e95cc0887699"
      },
      "execution_count": null,
      "outputs": [
        {
          "output_type": "stream",
          "name": "stdout",
          "text": [
            "7\n"
          ]
        }
      ]
    },
    {
      "cell_type": "markdown",
      "source": [
        "Looping:"
      ],
      "metadata": {
        "id": "vZyrruFOiDdx"
      }
    },
    {
      "cell_type": "code",
      "source": [
        "for x in my_numbers:\n",
        "    print(x)"
      ],
      "metadata": {
        "colab": {
          "base_uri": "https://localhost:8080/"
        },
        "id": "KcPN1GJCYTtT",
        "outputId": "a8433e08-d889-4aaf-daeb-2953448ae9b6"
      },
      "execution_count": null,
      "outputs": [
        {
          "output_type": "stream",
          "name": "stdout",
          "text": [
            "1\n",
            "2\n",
            "3\n",
            "4\n",
            "5\n",
            "6\n",
            "7\n"
          ]
        }
      ]
    },
    {
      "cell_type": "code",
      "source": [
        "for n in my_numbers:\n",
        "    print(n)"
      ],
      "metadata": {
        "colab": {
          "base_uri": "https://localhost:8080/"
        },
        "id": "XjbXVSxpiTu-",
        "outputId": "ed074622-ba05-4eb8-c3a7-a5beeea8a190"
      },
      "execution_count": null,
      "outputs": [
        {
          "output_type": "stream",
          "name": "stdout",
          "text": [
            "1\n",
            "2\n",
            "3\n",
            "4\n",
            "5\n",
            "6\n",
            "7\n"
          ]
        }
      ]
    },
    {
      "cell_type": "code",
      "source": [
        "for item in my_numbers:\n",
        "    print(item)"
      ],
      "metadata": {
        "colab": {
          "base_uri": "https://localhost:8080/"
        },
        "id": "hTVchVuMiVi4",
        "outputId": "09178b55-a26e-46fc-8531-f3133d344e59"
      },
      "execution_count": null,
      "outputs": [
        {
          "output_type": "stream",
          "name": "stdout",
          "text": [
            "1\n",
            "2\n",
            "3\n",
            "4\n",
            "5\n",
            "6\n",
            "7\n"
          ]
        }
      ]
    },
    {
      "cell_type": "code",
      "source": [
        "for n in my_numbers:\n",
        "    print(\"HELLO\")"
      ],
      "metadata": {
        "colab": {
          "base_uri": "https://localhost:8080/"
        },
        "id": "VbrrEZWHiXVy",
        "outputId": "42c68b1b-b228-44c5-a783-6c2fd6abb853"
      },
      "execution_count": null,
      "outputs": [
        {
          "output_type": "stream",
          "name": "stdout",
          "text": [
            "HELLO\n",
            "HELLO\n",
            "HELLO\n",
            "HELLO\n",
            "HELLO\n",
            "HELLO\n",
            "HELLO\n"
          ]
        }
      ]
    },
    {
      "cell_type": "markdown",
      "source": [
        "Mapping:"
      ],
      "metadata": {
        "id": "uGuw4GlXiEqM"
      }
    },
    {
      "cell_type": "code",
      "source": [
        "# the long way:\n",
        "\n",
        "bigger_nums = []\n",
        "\n",
        "for x in my_numbers:\n",
        "    bigger_nums.append(x * 100)\n",
        "\n",
        "print(bigger_nums)"
      ],
      "metadata": {
        "colab": {
          "base_uri": "https://localhost:8080/"
        },
        "id": "DPMXI1dEYTq7",
        "outputId": "65a2b1f1-85f5-4bff-ca37-a3ad44eda334"
      },
      "execution_count": null,
      "outputs": [
        {
          "output_type": "stream",
          "name": "stdout",
          "text": [
            "[100, 200, 300, 400, 500, 600, 700]\n"
          ]
        }
      ]
    },
    {
      "cell_type": "code",
      "source": [
        "# using a list comprehension one liner:\n",
        "\n",
        "[x*100 for x in my_numbers]"
      ],
      "metadata": {
        "colab": {
          "base_uri": "https://localhost:8080/"
        },
        "id": "wmqFja9MjT9P",
        "outputId": "04cc544c-7a97-4da2-bb30-0460e3257f20"
      },
      "execution_count": null,
      "outputs": [
        {
          "output_type": "execute_result",
          "data": {
            "text/plain": [
              "[100, 200, 300, 400, 500, 600, 700]"
            ]
          },
          "metadata": {},
          "execution_count": 17
        }
      ]
    },
    {
      "cell_type": "markdown",
      "source": [
        "Filtering:"
      ],
      "metadata": {
        "id": "pjEG8N8siF6_"
      }
    },
    {
      "cell_type": "code",
      "source": [
        "# the long way:\n",
        "\n",
        "some_nums = []\n",
        "\n",
        "for x in my_numbers:\n",
        "    if x > 5:\n",
        "        some_nums.append(x)\n",
        "\n",
        "print(some_nums)"
      ],
      "metadata": {
        "colab": {
          "base_uri": "https://localhost:8080/"
        },
        "id": "jxtxSlcViH8P",
        "outputId": "161ffdb3-bb2b-4128-d7d9-9eb5246f0a82"
      },
      "execution_count": null,
      "outputs": [
        {
          "output_type": "stream",
          "name": "stdout",
          "text": [
            "[6, 7]\n"
          ]
        }
      ]
    },
    {
      "cell_type": "code",
      "source": [
        "# using a list comprehension one liner\n",
        "[x for x in my_numbers if x > 5]"
      ],
      "metadata": {
        "colab": {
          "base_uri": "https://localhost:8080/"
        },
        "id": "Ertt5M_bjOiQ",
        "outputId": "d25ce0ae-f059-4a10-8f6d-3fcc6bd78e28"
      },
      "execution_count": null,
      "outputs": [
        {
          "output_type": "execute_result",
          "data": {
            "text/plain": [
              "[6, 7]"
            ]
          },
          "metadata": {},
          "execution_count": 19
        }
      ]
    },
    {
      "cell_type": "markdown",
      "source": [
        "List Comprehensions for Mapping and Filtering:"
      ],
      "metadata": {
        "id": "jDxd-FMUjgGj"
      }
    },
    {
      "cell_type": "code",
      "source": [
        "# using a list comprehension one liner\n",
        "[x*100 for x in my_numbers if x > 5]"
      ],
      "metadata": {
        "colab": {
          "base_uri": "https://localhost:8080/"
        },
        "id": "x97LLQEmjmaB",
        "outputId": "1902fc57-d29f-4dc9-cc82-2cc2b3a47325"
      },
      "execution_count": null,
      "outputs": [
        {
          "output_type": "execute_result",
          "data": {
            "text/plain": [
              "[600, 700]"
            ]
          },
          "metadata": {},
          "execution_count": 20
        }
      ]
    },
    {
      "cell_type": "markdown",
      "source": [
        "## Ranges"
      ],
      "metadata": {
        "id": "n_9xKT31iemJ"
      }
    },
    {
      "cell_type": "markdown",
      "source": [
        "Assembling Ranges:"
      ],
      "metadata": {
        "id": "3VhaeIBDic6H"
      }
    },
    {
      "cell_type": "code",
      "source": [
        "list(range(0, 10))"
      ],
      "metadata": {
        "colab": {
          "base_uri": "https://localhost:8080/"
        },
        "id": "PMicAqWrih8M",
        "outputId": "c6513edc-e7c7-44e1-e0b8-e5ba78375259"
      },
      "execution_count": null,
      "outputs": [
        {
          "output_type": "execute_result",
          "data": {
            "text/plain": [
              "[0, 1, 2, 3, 4, 5, 6, 7, 8, 9]"
            ]
          },
          "metadata": {},
          "execution_count": 21
        }
      ]
    },
    {
      "cell_type": "code",
      "source": [
        "list(range(1, 10))"
      ],
      "metadata": {
        "colab": {
          "base_uri": "https://localhost:8080/"
        },
        "id": "fGwWOIB-ilW5",
        "outputId": "5e09cd6b-495c-4d44-ef59-ffce15901f8a"
      },
      "execution_count": null,
      "outputs": [
        {
          "output_type": "execute_result",
          "data": {
            "text/plain": [
              "[1, 2, 3, 4, 5, 6, 7, 8, 9]"
            ]
          },
          "metadata": {},
          "execution_count": 22
        }
      ]
    },
    {
      "cell_type": "code",
      "source": [
        "n = 10\n",
        "\n",
        "list(range(1, n+1))"
      ],
      "metadata": {
        "colab": {
          "base_uri": "https://localhost:8080/"
        },
        "id": "Kt2f_3BJio17",
        "outputId": "b0786a0a-eb61-4235-f990-3a8fc0a1d372"
      },
      "execution_count": null,
      "outputs": [
        {
          "output_type": "execute_result",
          "data": {
            "text/plain": [
              "[1, 2, 3, 4, 5, 6, 7, 8, 9, 10]"
            ]
          },
          "metadata": {},
          "execution_count": 23
        }
      ]
    },
    {
      "cell_type": "code",
      "source": [
        "for num in range(0,3):\n",
        "    print(num)"
      ],
      "metadata": {
        "colab": {
          "base_uri": "https://localhost:8080/"
        },
        "id": "Z-RdGBZ2ix9g",
        "outputId": "7698855f-41a7-4e22-ff91-7aa54535e606"
      },
      "execution_count": null,
      "outputs": [
        {
          "output_type": "stream",
          "name": "stdout",
          "text": [
            "0\n",
            "1\n",
            "2\n"
          ]
        }
      ]
    },
    {
      "cell_type": "markdown",
      "metadata": {
        "id": "-KpOcL7dRi0y"
      },
      "source": [
        "# Python Data Challenges\n"
      ]
    },
    {
      "cell_type": "markdown",
      "metadata": {
        "id": "jkFPIYgmG6ag"
      },
      "source": [
        "## Challenge 1 (Gradebook)\n"
      ]
    },
    {
      "cell_type": "markdown",
      "metadata": {
        "id": "S-JKOpkHSpfB"
      },
      "source": [
        "\n",
        "Given the Python variable called `gradebook` provided below, write Python code which references that variable to perform each of the following tasks...\n",
        "\n",
        "A) Print the date this data was downloaded (i.e. `\"2018-06-05\"`).\n",
        "\n",
        "B) Print the number of students in the gradebook (i.e. `10`).\n",
        "\n",
        "C) Loop through each student and print their grade, each on a new line.\n",
        "\n",
        "D) Print the average grade (i.e. `83.64`). \n",
        "\n",
        "E) Print the median grade (i.e. `87.6`). HINT: it might be helpful to leverage [the `statistics` module](https://github.com/prof-rossetti/intro-to-python/blob/master/notes/python/modules/statistics.md) or the `numpy` package\n",
        "\n"
      ]
    },
    {
      "cell_type": "code",
      "metadata": {
        "id": "7mLcsfnESwG1"
      },
      "source": [
        "# leave this cell as-is (and run it)\n",
        "gradebook = {\n",
        "    \"downloadDate\": \"2018-06-05\",\n",
        "    \"professorId\": 123,\n",
        "    \"students\":[\n",
        "        {\"studentId\": 1, \"finalGrade\": 76.7},\n",
        "        {\"studentId\": 2, \"finalGrade\": 85.1},\n",
        "        {\"studentId\": 3, \"finalGrade\": 50.3},\n",
        "        {\"studentId\": 4, \"finalGrade\": 89.8},\n",
        "        {\"studentId\": 5, \"finalGrade\": 97.4},\n",
        "        {\"studentId\": 6, \"finalGrade\": 75.5},\n",
        "        {\"studentId\": 7, \"finalGrade\": 87.2},\n",
        "        {\"studentId\": 8, \"finalGrade\": 88.0},\n",
        "        {\"studentId\": 9, \"finalGrade\": 93.9},\n",
        "        {\"studentId\": 10, \"finalGrade\": 92.5}\n",
        "    ]\n",
        "    }"
      ],
      "execution_count": null,
      "outputs": []
    },
    {
      "cell_type": "code",
      "metadata": {
        "colab": {
          "base_uri": "https://localhost:8080/"
        },
        "id": "MCaUtr-QjxDB",
        "outputId": "ef3f57e6-2dab-4ba8-e777-1c139a35872d"
      },
      "source": [
        "print(\"------------------\")\n",
        "print(\"PROCESSING GRADEBOOK DATA...\")\n",
        "print(\"------------------\")\n",
        "\n",
        "# todo: write some python here\n",
        "\n",
        "\n"
      ],
      "execution_count": null,
      "outputs": [
        {
          "output_type": "stream",
          "name": "stdout",
          "text": [
            "------------------\n",
            "PROCESSING GRADEBOOK DATA...\n",
            "------------------\n"
          ]
        }
      ]
    },
    {
      "cell_type": "code",
      "source": [],
      "metadata": {
        "id": "07q7zijQaXor"
      },
      "execution_count": null,
      "outputs": []
    },
    {
      "cell_type": "code",
      "source": [],
      "metadata": {
        "id": "NVZTjT0Sajdi"
      },
      "execution_count": null,
      "outputs": []
    },
    {
      "cell_type": "code",
      "source": [
        "from statistics import mean, median\n",
        "import numpy as np\n",
        "\n"
      ],
      "metadata": {
        "id": "HIUoYZsSazv0"
      },
      "execution_count": null,
      "outputs": []
    },
    {
      "cell_type": "markdown",
      "metadata": {
        "id": "H6vAJbNjG_US"
      },
      "source": [
        "## Challenge 2 (Rideshare)\n"
      ]
    },
    {
      "cell_type": "markdown",
      "metadata": {
        "id": "-uRFHQMYRkpb"
      },
      "source": [
        "\n",
        "\n",
        "Given the Python variable called `trip` provided below, write Python code which references that variable to perform each of the following tasks...\n",
        "\n",
        "A) Print a human-friendly message to denote the driver’s first name (i.e. `“Your driver is Danny\"`).\n",
        "\n",
        "B) Assuming stops can get added or removed at any time, print the number of stops this trip makes (i.e. `3`).\n",
        "\n",
        "C) Assuming the stops will always be listed in ascending order of their stop sequence, and there will always be at least one stop, print the destination of the FIRST stop (i.e. `\"Madison Square”`).\n",
        "\n",
        "D) Assuming the stops will always be listed in ascending order of their stop sequence, and there will always be at least one stop, but the number of stops may change at any time, print the destination of the LAST stop (i.e. `“Washington Square”`).\n",
        "\n",
        "E) Loop through each of the trip’s stops and print that stop’s passenger name, one at a time (i.e. `“Vishal”`, then `“Clara”`, then `“Lee”`, each on a separate line):\n",
        "\n"
      ]
    },
    {
      "cell_type": "code",
      "metadata": {
        "id": "MSyUjpWA-11o"
      },
      "source": [
        "# leave this cell as-is (and run it)\n",
        "trip = {\n",
        "    \"driver\": {\n",
        "        \"first_name\": \"Danny\",\n",
        "        \"last_name\": \"Dreyfus\",\n",
        "        \"avg_rating\": 3.6,\n",
        "        \"total_rides\": 950\n",
        "    },\n",
        "    \"vehicle\": {\n",
        "        \"make\": \"Tesla\",\n",
        "        \"model\": \"Cybertruck\",\n",
        "        \"year\": 2021,\n",
        "        \"color\": \"silver\"\n",
        "    },\n",
        "    \"rideshare\": True,\n",
        "    \"pickup_location\": \"Grand Central Terminal\",\n",
        "    \"stops\": [\n",
        "        {\"sequence\": 1, \"passenger\": \"Vishal\", \"destination\": \"Madison Square\", \"fare\": 3.99},\n",
        "        {\"sequence\": 2, \"passenger\": \"Clara\", \"destination\": \"Union Square\", \"fare\": 5.99},\n",
        "        {\"sequence\": 3, \"passenger\": \"Lee\", \"destination\": \"Washington Square\", \"fare\": 7.99}\n",
        "    ]\n",
        "}\n",
        "\n"
      ],
      "execution_count": null,
      "outputs": []
    },
    {
      "cell_type": "code",
      "metadata": {
        "colab": {
          "base_uri": "https://localhost:8080/"
        },
        "id": "2H5Id5qTj9zM",
        "outputId": "903cf7e2-4828-40d2-c269-91976f6b0a4b"
      },
      "source": [
        "\n",
        "print(\"------------------\")\n",
        "print(\"PROCESSING RIDESHARE DATA...\")\n",
        "print(\"------------------\")\n",
        "\n",
        "# todo: write some python here\n",
        "\n",
        "\n",
        "\n"
      ],
      "execution_count": null,
      "outputs": [
        {
          "output_type": "stream",
          "name": "stdout",
          "text": [
            "------------------\n",
            "PROCESSING RIDESHARE DATA...\n",
            "------------------\n"
          ]
        }
      ]
    },
    {
      "cell_type": "markdown",
      "metadata": {
        "id": "frq5vQMsHOS1"
      },
      "source": [
        "## Challenge 3 (Social Media Posts)\n"
      ]
    },
    {
      "cell_type": "markdown",
      "metadata": {
        "id": "qHWXSX8iRkBU"
      },
      "source": [
        "\n",
        "Given the Python variable called `tweets` provided below, write Python code which references that variable to perform each of the following tasks...\n",
        "\n",
        "A) Print the screen name of the user who authored the first tweet (i.e. `“sandwhoa”`).\n",
        "\n",
        "\n",
        "B) Of all the tweets which include the phrase `“@sandwhoa”` in their full text, print the screen name of the user who authored that tweet, each on a separate line (i.e. `“person2”`, then `“person3”`).\n",
        "\n",
        "C) Of all the tweets which include the phrase `“@sandwhoa”` in their full text, determine which tweet has the greatest number of likes, and then print the screen name of the user who authored that tweet (i.e. `“person3”`). FYI: Assume the tweet order can change at any time and has no relationship with the number of likes.\n"
      ]
    },
    {
      "cell_type": "code",
      "metadata": {
        "id": "nY7zZDCm-8OD"
      },
      "source": [
        "# leave this cell as-is (and run it)\n",
        "tweets = [\n",
        "    {\n",
        "        \"id\": 100200297,\n",
        "        \"full_text\": \"Look at this delicious sandwich!\",\n",
        "        \"img_url\": \"https://sandwhoa.com/sandwich.png\",\n",
        "        \"user\": {\"screen_name\": \"sandwhoa\", \"followers\": 5000},\n",
        "        \"likes_count\": 150\n",
        "    },\n",
        "    {\n",
        "        \"id\": 100200298,\n",
        "        \"full_text\": \"I love sandwiches\",\n",
        "        \"img_url\": None,\n",
        "        \"user\": {\"screen_name\": \"person1\", \"followers\": 100},\n",
        "        \"likes_count\": 5\n",
        "    },\n",
        "    {\n",
        "        \"id\": 100200299,\n",
        "        \"full_text\": \"@sandwhoa yumm...\",\n",
        "        \"img_url\": None,\n",
        "        \"user\": {\"screen_name\": \"person2\", \"followers\": 200},\n",
        "        \"likes_count\": 10\n",
        "    },\n",
        "    {\n",
        "        \"id\": 100200300,\n",
        "        \"full_text\": \"@sandwhoa that sandwich looks amazing!!\",\n",
        "        \"img_url\": None,\n",
        "        \"user\": {\"screen_name\": \"person3\", \"followers\": 300},\n",
        "        \"likes_count\": 35\n",
        "    },\n",
        "    {\n",
        "        \"id\": 100200301,\n",
        "        \"full_text\": \"I ate a great sandwich today\",\n",
        "        \"img_url\": None,\n",
        "        \"user\": {\"screen_name\": \"person4\", \"followers\": 400},\n",
        "        \"likes_count\": 50\n",
        "    }\n",
        "]\n"
      ],
      "execution_count": null,
      "outputs": []
    },
    {
      "cell_type": "code",
      "metadata": {
        "colab": {
          "base_uri": "https://localhost:8080/"
        },
        "id": "hsy4ZFCRj_ce",
        "outputId": "32d9400e-f0e9-4af9-e875-ea40c7adeaf8"
      },
      "source": [
        "\n",
        "print(\"------------------\")\n",
        "print(\"PROCESSING SOCIAL MEDIA DATA...\")\n",
        "print(\"------------------\")\n",
        "\n",
        "# todo: write some python here\n",
        "\n",
        "\n",
        "\n"
      ],
      "execution_count": null,
      "outputs": [
        {
          "output_type": "stream",
          "name": "stdout",
          "text": [
            "------------------\n",
            "PROCESSING SOCIAL MEDIA DATA...\n",
            "------------------\n"
          ]
        }
      ]
    },
    {
      "cell_type": "markdown",
      "metadata": {
        "id": "IPkloYZT47ap"
      },
      "source": [
        "## Challenge 4 (Weather Forecast)\n",
        "\n"
      ]
    },
    {
      "cell_type": "markdown",
      "metadata": {
        "id": "g49sx66W6PGu"
      },
      "source": [
        "\n",
        "Given the Python variable called `weather_data` provided below, write Python code which references that variable to perform the following tasks...\n",
        "\n",
        "A) For each day in the provided data (excluding night-time forecasts), print a human-readable weather forecast on that date. \n",
        "\n",
        "B) ... and display an image of the weather on that date. HINT: see example image display setup cell below, using `IPython.display` module."
      ]
    },
    {
      "cell_type": "code",
      "source": [
        "\n",
        "#\n",
        "# SETUP CELL \n",
        "# ... leave this cell as-is (and run it to see the example images)\n",
        "# ... feel free to reference / adapt this code later\n",
        "#\n",
        "\n",
        "from IPython.display import Image, display \n",
        "\n",
        "print(\"-----------\")\n",
        "print(\"EXAMPLE IMAGES:\")\n",
        "\n",
        "print(\"-----------\")\n",
        "image_url = \"https://upload.wikimedia.org/wikipedia/commons/thumb/9/9f/Georgetown_Hoyas_logo.svg/64px-Georgetown_Hoyas_logo.svg.png\"\n",
        "#image_url = \"https://www.clipartmax.com/png/middle/285-2854649_nyu-logo-new-york-university-logo.png\"\n",
        "display(Image(url=image_url, height=100))\n",
        "\n",
        "print(\"-----------\")\n",
        "display(Image(url=\"https://www.python.org/static/community_logos/python-powered-w-200x80.png\"))\n",
        "\n",
        "print(\"-----------\")\n",
        "display(Image(url=\"https://api.weather.gov/icons/land/day/tsra_sct,60?size=medium\", height=100))"
      ],
      "metadata": {
        "colab": {
          "base_uri": "https://localhost:8080/",
          "height": 398
        },
        "id": "l1f_e3niyVV9",
        "outputId": "31db12c0-fc42-4c87-d1a3-1146386db6f3"
      },
      "execution_count": null,
      "outputs": [
        {
          "output_type": "stream",
          "name": "stdout",
          "text": [
            "-----------\n",
            "EXAMPLE IMAGES:\n",
            "-----------\n"
          ]
        },
        {
          "output_type": "display_data",
          "data": {
            "text/html": [
              "<img src=\"https://upload.wikimedia.org/wikipedia/commons/thumb/9/9f/Georgetown_Hoyas_logo.svg/64px-Georgetown_Hoyas_logo.svg.png\" height=\"100\"/>"
            ],
            "text/plain": [
              "<IPython.core.display.Image object>"
            ]
          },
          "metadata": {}
        },
        {
          "output_type": "stream",
          "name": "stdout",
          "text": [
            "-----------\n"
          ]
        },
        {
          "output_type": "display_data",
          "data": {
            "text/html": [
              "<img src=\"https://www.python.org/static/community_logos/python-powered-w-200x80.png\"/>"
            ],
            "text/plain": [
              "<IPython.core.display.Image object>"
            ]
          },
          "metadata": {}
        },
        {
          "output_type": "stream",
          "name": "stdout",
          "text": [
            "-----------\n"
          ]
        },
        {
          "output_type": "display_data",
          "data": {
            "text/html": [
              "<img src=\"https://api.weather.gov/icons/land/day/tsra_sct,60?size=medium\" height=\"100\"/>"
            ],
            "text/plain": [
              "<IPython.core.display.Image object>"
            ]
          },
          "metadata": {}
        }
      ]
    },
    {
      "cell_type": "code",
      "metadata": {
        "id": "29TZ3ctX45tp"
      },
      "source": [
        "# leave this cell as-is (and run it)\n",
        "\n",
        "weather_data = {\n",
        "    \"type\": \"Feature\",\n",
        "    \"geometry\": {\n",
        "        \"type\": \"Polygon\",\n",
        "        \"coordinates\": [\n",
        "            [\n",
        "                [-77.036996200000004, 38.900789000000003],\n",
        "                [-77.040754800000002, 38.878836500000006],\n",
        "                [-77.012551900000005,  38.875908600000002],\n",
        "                [-77.008787600000005, 38.897860800000004],\n",
        "                [-77.036996200000004, 38.900789000000003]\n",
        "            ]\n",
        "        ]\n",
        "    },\n",
        "    \"properties\": {\n",
        "        \"updated\": \"2021-06-08T17:34:46+00:00\",\n",
        "        \"units\": \"us\",\n",
        "        \"forecastGenerator\": \"BaselineForecastGenerator\",\n",
        "        \"generatedAt\": \"2021-06-08T18:32:38+00:00\",\n",
        "        \"updateTime\": \"2021-06-08T17:34:46+00:00\",\n",
        "        \"validTimes\": \"2021-06-08T11:00:00+00:00/P7DT14H\",\n",
        "        \"elevation\": {\n",
        "            \"value\": 6.0960000000000001,\n",
        "            \"unitCode\": \"unit:m\"\n",
        "        },\n",
        "        \"periods\": [\n",
        "            {\n",
        "                \"number\": 1,\n",
        "                \"name\": \"This Afternoon\",\n",
        "                \"startTime\": \"2021-06-08T14:00:00-04:00\",\n",
        "                \"endTime\": \"2021-06-08T18:00:00-04:00\",\n",
        "                \"isDaytime\": True,\n",
        "                \"temperature\": 91,\n",
        "                \"temperatureUnit\": \"F\",\n",
        "                \"temperatureTrend\": None,\n",
        "                \"windSpeed\": \"7 mph\",\n",
        "                \"windDirection\": \"W\",\n",
        "                \"icon\": \"https://api.weather.gov/icons/land/day/tsra_sct,60?size=medium\",\n",
        "                \"shortForecast\": \"Showers And Thunderstorms Likely\",\n",
        "                \"detailedForecast\": \"Showers and thunderstorms likely. Partly sunny, with a high near 91. West wind around 7 mph. Chance of precipitation is 60%. New rainfall amounts less than a tenth of an inch possible.\"\n",
        "            },\n",
        "            {\n",
        "                \"number\": 2,\n",
        "                \"name\": \"Tonight\",\n",
        "                \"startTime\": \"2021-06-08T18:00:00-04:00\",\n",
        "                \"endTime\": \"2021-06-09T06:00:00-04:00\",\n",
        "                \"isDaytime\": False,\n",
        "                \"temperature\": 73,\n",
        "                \"temperatureUnit\": \"F\",\n",
        "                \"temperatureTrend\": None,\n",
        "                \"windSpeed\": \"1 to 6 mph\",\n",
        "                \"windDirection\": \"SW\",\n",
        "                \"icon\": \"https://api.weather.gov/icons/land/night/tsra_sct,60/tsra_sct,20?size=medium\",\n",
        "                \"shortForecast\": \"Showers And Thunderstorms Likely then Chance Showers And Thunderstorms\",\n",
        "                \"detailedForecast\": \"Showers and thunderstorms likely before 8pm, then a chance of showers and thunderstorms between 8pm and 2am. Mostly cloudy, with a low around 73. Southwest wind 1 to 6 mph. Chance of precipitation is 60%. New rainfall amounts between a tenth and quarter of an inch possible.\"\n",
        "            },\n",
        "            {\n",
        "                \"number\": 3,\n",
        "                \"name\": \"Wednesday\",\n",
        "                \"startTime\": \"2021-06-09T06:00:00-04:00\",\n",
        "                \"endTime\": \"2021-06-09T18:00:00-04:00\",\n",
        "                \"isDaytime\": True,\n",
        "                \"temperature\": 90,\n",
        "                \"temperatureUnit\": \"F\",\n",
        "                \"temperatureTrend\": None,\n",
        "                \"windSpeed\": \"1 to 6 mph\",\n",
        "                \"windDirection\": \"W\",\n",
        "                \"icon\": \"https://api.weather.gov/icons/land/day/tsra_sct,30/tsra_sct,60?size=medium\",\n",
        "                \"shortForecast\": \"Showers And Thunderstorms Likely\",\n",
        "                \"detailedForecast\": \"A slight chance of rain showers between 8am and 11am, then showers and thunderstorms likely. Mostly cloudy, with a high near 90. West wind 1 to 6 mph. Chance of precipitation is 60%. New rainfall amounts between a tenth and quarter of an inch possible.\"\n",
        "            },\n",
        "            {\n",
        "                \"number\": 4,\n",
        "                \"name\": \"Wednesday Night\",\n",
        "                \"startTime\": \"2021-06-09T18:00:00-04:00\",\n",
        "                \"endTime\": \"2021-06-10T06:00:00-04:00\",\n",
        "                \"isDaytime\": False,\n",
        "                \"temperature\": 71,\n",
        "                \"temperatureUnit\": \"F\",\n",
        "                \"temperatureTrend\": None,\n",
        "                \"windSpeed\": \"1 to 6 mph\",\n",
        "                \"windDirection\": \"W\",\n",
        "                \"icon\": \"https://api.weather.gov/icons/land/night/tsra_sct,60/tsra_sct,30?size=medium\",\n",
        "                \"shortForecast\": \"Showers And Thunderstorms Likely\",\n",
        "                \"detailedForecast\": \"Showers and thunderstorms likely before 2am, then a slight chance of showers and thunderstorms. Mostly cloudy, with a low around 71. West wind 1 to 6 mph. Chance of precipitation is 60%. New rainfall amounts between a tenth and quarter of an inch possible.\"\n",
        "            },\n",
        "            {\n",
        "                \"number\": 5,\n",
        "                \"name\": \"Thursday\",\n",
        "                \"startTime\": \"2021-06-10T06:00:00-04:00\",\n",
        "                \"endTime\": \"2021-06-10T18:00:00-04:00\",\n",
        "                \"isDaytime\": True,\n",
        "                \"temperature\": 89,\n",
        "                \"temperatureUnit\": \"F\",\n",
        "                \"temperatureTrend\": None,\n",
        "                \"windSpeed\": \"1 to 6 mph\",\n",
        "                \"windDirection\": \"NE\",\n",
        "                \"icon\": \"https://api.weather.gov/icons/land/day/tsra_hi,60/tsra_hi,80?size=medium\",\n",
        "                \"shortForecast\": \"Showers And Thunderstorms\",\n",
        "                \"detailedForecast\": \"Showers and thunderstorms. Partly sunny, with a high near 89. Northeast wind 1 to 6 mph. Chance of precipitation is 80%.\"\n",
        "            },\n",
        "            {\n",
        "                \"number\": 6,\n",
        "                \"name\": \"Thursday Night\",\n",
        "                \"startTime\": \"2021-06-10T18:00:00-04:00\",\n",
        "                \"endTime\": \"2021-06-11T06:00:00-04:00\",\n",
        "                \"isDaytime\": False,\n",
        "                \"temperature\": 70,\n",
        "                \"temperatureUnit\": \"F\",\n",
        "                \"temperatureTrend\": None,\n",
        "                \"windSpeed\": \"2 to 6 mph\",\n",
        "                \"windDirection\": \"E\",\n",
        "                \"icon\": \"https://api.weather.gov/icons/land/night/tsra,80?size=medium\",\n",
        "                \"shortForecast\": \"Showers And Thunderstorms\",\n",
        "                \"detailedForecast\": \"Showers and thunderstorms. Mostly cloudy, with a low around 70. Chance of precipitation is 80%.\"\n",
        "            },\n",
        "            {\n",
        "                \"number\": 7,\n",
        "                \"name\": \"Friday\",\n",
        "                \"startTime\": \"2021-06-11T06:00:00-04:00\",\n",
        "                \"endTime\": \"2021-06-11T18:00:00-04:00\",\n",
        "                \"isDaytime\": True,\n",
        "                \"temperature\": 76,\n",
        "                \"temperatureUnit\": \"F\",\n",
        "                \"temperatureTrend\": None,\n",
        "                \"windSpeed\": \"2 to 8 mph\",\n",
        "                \"windDirection\": \"E\",\n",
        "                \"icon\": \"https://api.weather.gov/icons/land/day/tsra,80?size=medium\",\n",
        "                \"shortForecast\": \"Showers And Thunderstorms\",\n",
        "                \"detailedForecast\": \"Showers and thunderstorms. Mostly cloudy, with a high near 76. Chance of precipitation is 80%.\"\n",
        "            },\n",
        "            {\n",
        "                \"number\": 8,\n",
        "                \"name\": \"Friday Night\",\n",
        "                \"startTime\": \"2021-06-11T18:00:00-04:00\",\n",
        "                \"endTime\": \"2021-06-12T06:00:00-04:00\",\n",
        "                \"isDaytime\": False,\n",
        "                \"temperature\": 64,\n",
        "                \"temperatureUnit\": \"F\",\n",
        "                \"temperatureTrend\": None,\n",
        "                \"windSpeed\": \"7 mph\",\n",
        "                \"windDirection\": \"NE\",\n",
        "                \"icon\": \"https://api.weather.gov/icons/land/night/tsra,80/tsra,70?size=medium\",\n",
        "                \"shortForecast\": \"Showers And Thunderstorms\",\n",
        "                \"detailedForecast\": \"Showers and thunderstorms. Mostly cloudy, with a low around 64. Chance of precipitation is 80%.\"\n",
        "            },\n",
        "            {\n",
        "                \"number\": 9,\n",
        "                \"name\": \"Saturday\",\n",
        "                \"startTime\": \"2021-06-12T06:00:00-04:00\",\n",
        "                \"endTime\": \"2021-06-12T18:00:00-04:00\",\n",
        "                \"isDaytime\": True,\n",
        "                \"temperature\": 79,\n",
        "                \"temperatureUnit\": \"F\",\n",
        "                \"temperatureTrend\": None,\n",
        "                \"windSpeed\": \"7 mph\",\n",
        "                \"windDirection\": \"NE\",\n",
        "                \"icon\": \"https://api.weather.gov/icons/land/day/rain_showers,50/tsra_sct,50?size=medium\",\n",
        "                \"shortForecast\": \"Chance Rain Showers\",\n",
        "                \"detailedForecast\": \"A chance of rain showers before 2pm, then a chance of showers and thunderstorms. Partly sunny, with a high near 79. Chance of precipitation is 50%.\"\n",
        "            },\n",
        "            {\n",
        "                \"number\": 10,\n",
        "                \"name\": \"Saturday Night\",\n",
        "                \"startTime\": \"2021-06-12T18:00:00-04:00\",\n",
        "                \"endTime\": \"2021-06-13T06:00:00-04:00\",\n",
        "                \"isDaytime\": False,\n",
        "                \"temperature\": 63,\n",
        "                \"temperatureUnit\": \"F\",\n",
        "                \"temperatureTrend\": None,\n",
        "                \"windSpeed\": \"2 to 7 mph\",\n",
        "                \"windDirection\": \"E\",\n",
        "                \"icon\": \"https://api.weather.gov/icons/land/night/tsra_hi,40/tsra_hi,30?size=medium\",\n",
        "                \"shortForecast\": \"Chance Showers And Thunderstorms\",\n",
        "                \"detailedForecast\": \"A chance of showers and thunderstorms. Partly cloudy, with a low around 63. Chance of precipitation is 40%.\"\n",
        "            },\n",
        "            {\n",
        "                \"number\": 11,\n",
        "                \"name\": \"Sunday\",\n",
        "                \"startTime\": \"2021-06-13T06:00:00-04:00\",\n",
        "                \"endTime\": \"2021-06-13T18:00:00-04:00\",\n",
        "                \"isDaytime\": True,\n",
        "                \"temperature\": 82,\n",
        "                \"temperatureUnit\": \"F\",\n",
        "                \"temperatureTrend\": None,\n",
        "                \"windSpeed\": \"2 to 8 mph\",\n",
        "                \"windDirection\": \"SE\",\n",
        "                \"icon\": \"https://api.weather.gov/icons/land/day/rain_showers,30/tsra_hi,30?size=medium\",\n",
        "                \"shortForecast\": \"Chance Rain Showers\",\n",
        "                \"detailedForecast\": \"A chance of rain showers before 2pm, then a chance of showers and thunderstorms. Mostly sunny, with a high near 82. Chance of precipitation is 30%.\"\n",
        "            },\n",
        "            {\n",
        "                \"number\": 12,\n",
        "                \"name\": \"Sunday Night\",\n",
        "                \"startTime\": \"2021-06-13T18:00:00-04:00\",\n",
        "                \"endTime\": \"2021-06-14T06:00:00-04:00\",\n",
        "                \"isDaytime\": False,\n",
        "                \"temperature\": 64,\n",
        "                \"temperatureUnit\": \"F\",\n",
        "                \"temperatureTrend\": None,\n",
        "                \"windSpeed\": \"2 to 8 mph\",\n",
        "                \"windDirection\": \"S\",\n",
        "                \"icon\": \"https://api.weather.gov/icons/land/night/tsra_hi,30/tsra_hi?size=medium\",\n",
        "                \"shortForecast\": \"Chance Showers And Thunderstorms then Slight Chance Showers And Thunderstorms\",\n",
        "                \"detailedForecast\": \"A chance of showers and thunderstorms before 8pm, then a slight chance of showers and thunderstorms. Partly cloudy, with a low around 64. Chance of precipitation is 30%.\"\n",
        "            },\n",
        "            {\n",
        "                \"number\": 13,\n",
        "                \"name\": \"Monday\",\n",
        "                \"startTime\": \"2021-06-14T06:00:00-04:00\",\n",
        "                \"endTime\": \"2021-06-14T18:00:00-04:00\",\n",
        "                \"isDaytime\": True,\n",
        "                \"temperature\": 84,\n",
        "                \"temperatureUnit\": \"F\",\n",
        "                \"temperatureTrend\": None,\n",
        "                \"windSpeed\": \"2 to 6 mph\",\n",
        "                \"windDirection\": \"W\",\n",
        "                \"icon\": \"https://api.weather.gov/icons/land/day/rain_showers/tsra_hi?size=medium\",\n",
        "                \"shortForecast\": \"Slight Chance Rain Showers then Slight Chance Showers And Thunderstorms\",\n",
        "                \"detailedForecast\": \"A slight chance of rain showers before 2pm, then a slight chance of showers and thunderstorms. Mostly sunny, with a high near 84.\"\n",
        "            },\n",
        "            {\n",
        "                \"number\": 14,\n",
        "                \"name\": \"Monday Night\",\n",
        "                \"startTime\": \"2021-06-14T18:00:00-04:00\",\n",
        "                \"endTime\": \"2021-06-15T06:00:00-04:00\",\n",
        "                \"isDaytime\": False,\n",
        "                \"temperature\": 64,\n",
        "                \"temperatureUnit\": \"F\",\n",
        "                \"temperatureTrend\": None,\n",
        "                \"windSpeed\": \"2 to 6 mph\",\n",
        "                \"windDirection\": \"W\",\n",
        "                \"icon\": \"https://api.weather.gov/icons/land/night/tsra_hi?size=medium\",\n",
        "                \"shortForecast\": \"Chance Showers And Thunderstorms\",\n",
        "                \"detailedForecast\": \"A chance of showers and thunderstorms. Partly cloudy, with a low around 64.\"\n",
        "            }\n",
        "        ]\n",
        "    }\n",
        "}\n",
        "\n",
        "\n"
      ],
      "execution_count": null,
      "outputs": []
    },
    {
      "cell_type": "code",
      "metadata": {
        "colab": {
          "base_uri": "https://localhost:8080/"
        },
        "id": "eaVQcTF36sTV",
        "outputId": "6ecf5e8f-bff0-4b8a-e76a-9ff9d40ade1e"
      },
      "source": [
        "print(\"------------------\")\n",
        "print(\"PROCESSING WEATHER DATA...\")\n",
        "print(\"------------------\")\n",
        "\n",
        "# todo: write some python here\n",
        "\n"
      ],
      "execution_count": null,
      "outputs": [
        {
          "output_type": "stream",
          "name": "stdout",
          "text": [
            "------------------\n",
            "PROCESSING WEATHER DATA...\n",
            "------------------\n"
          ]
        }
      ]
    },
    {
      "cell_type": "markdown",
      "source": [
        "# Pandas Package Foreshadowing"
      ],
      "metadata": {
        "id": "xyBYJTJ7kpX-"
      }
    },
    {
      "cell_type": "markdown",
      "source": [
        "Looking ahead to next module with some basic pandas DataFrame operations. for more info, peek ahead to the Module 2 materials in Canvas, including the pandas package overview notebook."
      ],
      "metadata": {
        "id": "CQ8MikyalINw"
      }
    },
    {
      "cell_type": "markdown",
      "source": [
        "### Creating DataFrames from Scratch"
      ],
      "metadata": {
        "id": "2awQynG9mohj"
      }
    },
    {
      "cell_type": "code",
      "source": [
        "from pandas import DataFrame\n",
        "\n",
        "financial_data = [\n",
        "    {\"symbol\": \"MSFT\",  \"company_name\": \"Microsoft\", \"latest_close\": 100.00},\n",
        "    {\"symbol\": \"GOOGL\", \"company_name\": \"Google\", \"latest_close\": 200.00},\n",
        "    {\"symbol\": \"NFLX\",  \"company_name\": \"Netflix\", \"latest_close\": 300.00},\n",
        "    {\"symbol\": \"AMZN\",  \"company_name\": \"Amazon\", \"latest_close\": 1000.00},\n",
        "\n",
        "]\n",
        "practice_df = DataFrame(financial_data)\n",
        "\n",
        "print(type(practice_df))"
      ],
      "metadata": {
        "colab": {
          "base_uri": "https://localhost:8080/"
        },
        "id": "WmdqRFLdksHn",
        "outputId": "421add1f-118b-4b86-ea13-aa4e4f35a6dd"
      },
      "execution_count": null,
      "outputs": [
        {
          "output_type": "stream",
          "name": "stdout",
          "text": [
            "<class 'pandas.core.frame.DataFrame'>\n"
          ]
        }
      ]
    },
    {
      "cell_type": "markdown",
      "source": [
        "### Pandas DataFrame Operations"
      ],
      "metadata": {
        "id": "I1S_lyz2mr2i"
      }
    },
    {
      "cell_type": "code",
      "source": [
        "practice_df.head()"
      ],
      "metadata": {
        "colab": {
          "base_uri": "https://localhost:8080/",
          "height": 175
        },
        "id": "_7nNuh1ukxuj",
        "outputId": "007fcf23-b586-4561-d41b-8f4aafbc9f39"
      },
      "execution_count": null,
      "outputs": [
        {
          "output_type": "execute_result",
          "data": {
            "text/plain": [
              "  symbol company_name  latest_close\n",
              "0   MSFT    Microsoft         100.0\n",
              "1  GOOGL       Google         200.0\n",
              "2   NFLX      Netflix         300.0\n",
              "3   AMZN       Amazon        1000.0"
            ],
            "text/html": [
              "\n",
              "  <div id=\"df-a30ec884-34ad-4bc1-9cad-eea30525fc38\">\n",
              "    <div class=\"colab-df-container\">\n",
              "      <div>\n",
              "<style scoped>\n",
              "    .dataframe tbody tr th:only-of-type {\n",
              "        vertical-align: middle;\n",
              "    }\n",
              "\n",
              "    .dataframe tbody tr th {\n",
              "        vertical-align: top;\n",
              "    }\n",
              "\n",
              "    .dataframe thead th {\n",
              "        text-align: right;\n",
              "    }\n",
              "</style>\n",
              "<table border=\"1\" class=\"dataframe\">\n",
              "  <thead>\n",
              "    <tr style=\"text-align: right;\">\n",
              "      <th></th>\n",
              "      <th>symbol</th>\n",
              "      <th>company_name</th>\n",
              "      <th>latest_close</th>\n",
              "    </tr>\n",
              "  </thead>\n",
              "  <tbody>\n",
              "    <tr>\n",
              "      <th>0</th>\n",
              "      <td>MSFT</td>\n",
              "      <td>Microsoft</td>\n",
              "      <td>100.0</td>\n",
              "    </tr>\n",
              "    <tr>\n",
              "      <th>1</th>\n",
              "      <td>GOOGL</td>\n",
              "      <td>Google</td>\n",
              "      <td>200.0</td>\n",
              "    </tr>\n",
              "    <tr>\n",
              "      <th>2</th>\n",
              "      <td>NFLX</td>\n",
              "      <td>Netflix</td>\n",
              "      <td>300.0</td>\n",
              "    </tr>\n",
              "    <tr>\n",
              "      <th>3</th>\n",
              "      <td>AMZN</td>\n",
              "      <td>Amazon</td>\n",
              "      <td>1000.0</td>\n",
              "    </tr>\n",
              "  </tbody>\n",
              "</table>\n",
              "</div>\n",
              "      <button class=\"colab-df-convert\" onclick=\"convertToInteractive('df-a30ec884-34ad-4bc1-9cad-eea30525fc38')\"\n",
              "              title=\"Convert this dataframe to an interactive table.\"\n",
              "              style=\"display:none;\">\n",
              "        \n",
              "  <svg xmlns=\"http://www.w3.org/2000/svg\" height=\"24px\"viewBox=\"0 0 24 24\"\n",
              "       width=\"24px\">\n",
              "    <path d=\"M0 0h24v24H0V0z\" fill=\"none\"/>\n",
              "    <path d=\"M18.56 5.44l.94 2.06.94-2.06 2.06-.94-2.06-.94-.94-2.06-.94 2.06-2.06.94zm-11 1L8.5 8.5l.94-2.06 2.06-.94-2.06-.94L8.5 2.5l-.94 2.06-2.06.94zm10 10l.94 2.06.94-2.06 2.06-.94-2.06-.94-.94-2.06-.94 2.06-2.06.94z\"/><path d=\"M17.41 7.96l-1.37-1.37c-.4-.4-.92-.59-1.43-.59-.52 0-1.04.2-1.43.59L10.3 9.45l-7.72 7.72c-.78.78-.78 2.05 0 2.83L4 21.41c.39.39.9.59 1.41.59.51 0 1.02-.2 1.41-.59l7.78-7.78 2.81-2.81c.8-.78.8-2.07 0-2.86zM5.41 20L4 18.59l7.72-7.72 1.47 1.35L5.41 20z\"/>\n",
              "  </svg>\n",
              "      </button>\n",
              "      \n",
              "  <style>\n",
              "    .colab-df-container {\n",
              "      display:flex;\n",
              "      flex-wrap:wrap;\n",
              "      gap: 12px;\n",
              "    }\n",
              "\n",
              "    .colab-df-convert {\n",
              "      background-color: #E8F0FE;\n",
              "      border: none;\n",
              "      border-radius: 50%;\n",
              "      cursor: pointer;\n",
              "      display: none;\n",
              "      fill: #1967D2;\n",
              "      height: 32px;\n",
              "      padding: 0 0 0 0;\n",
              "      width: 32px;\n",
              "    }\n",
              "\n",
              "    .colab-df-convert:hover {\n",
              "      background-color: #E2EBFA;\n",
              "      box-shadow: 0px 1px 2px rgba(60, 64, 67, 0.3), 0px 1px 3px 1px rgba(60, 64, 67, 0.15);\n",
              "      fill: #174EA6;\n",
              "    }\n",
              "\n",
              "    [theme=dark] .colab-df-convert {\n",
              "      background-color: #3B4455;\n",
              "      fill: #D2E3FC;\n",
              "    }\n",
              "\n",
              "    [theme=dark] .colab-df-convert:hover {\n",
              "      background-color: #434B5C;\n",
              "      box-shadow: 0px 1px 3px 1px rgba(0, 0, 0, 0.15);\n",
              "      filter: drop-shadow(0px 1px 2px rgba(0, 0, 0, 0.3));\n",
              "      fill: #FFFFFF;\n",
              "    }\n",
              "  </style>\n",
              "\n",
              "      <script>\n",
              "        const buttonEl =\n",
              "          document.querySelector('#df-a30ec884-34ad-4bc1-9cad-eea30525fc38 button.colab-df-convert');\n",
              "        buttonEl.style.display =\n",
              "          google.colab.kernel.accessAllowed ? 'block' : 'none';\n",
              "\n",
              "        async function convertToInteractive(key) {\n",
              "          const element = document.querySelector('#df-a30ec884-34ad-4bc1-9cad-eea30525fc38');\n",
              "          const dataTable =\n",
              "            await google.colab.kernel.invokeFunction('convertToInteractive',\n",
              "                                                     [key], {});\n",
              "          if (!dataTable) return;\n",
              "\n",
              "          const docLinkHtml = 'Like what you see? Visit the ' +\n",
              "            '<a target=\"_blank\" href=https://colab.research.google.com/notebooks/data_table.ipynb>data table notebook</a>'\n",
              "            + ' to learn more about interactive tables.';\n",
              "          element.innerHTML = '';\n",
              "          dataTable['output_type'] = 'display_data';\n",
              "          await google.colab.output.renderOutput(dataTable, element);\n",
              "          const docLink = document.createElement('div');\n",
              "          docLink.innerHTML = docLinkHtml;\n",
              "          element.appendChild(docLink);\n",
              "        }\n",
              "      </script>\n",
              "    </div>\n",
              "  </div>\n",
              "  "
            ]
          },
          "metadata": {},
          "execution_count": 36
        }
      ]
    },
    {
      "cell_type": "code",
      "source": [
        "print(len(practice_df))"
      ],
      "metadata": {
        "colab": {
          "base_uri": "https://localhost:8080/"
        },
        "id": "YJ_pNU9bme-P",
        "outputId": "f82fe89d-8f54-4bda-c43e-97c2efc5d3f7"
      },
      "execution_count": null,
      "outputs": [
        {
          "output_type": "stream",
          "name": "stdout",
          "text": [
            "4\n"
          ]
        }
      ]
    },
    {
      "cell_type": "code",
      "source": [
        "print(practice_df.columns)\n",
        "print(practice_df.columns.tolist)"
      ],
      "metadata": {
        "colab": {
          "base_uri": "https://localhost:8080/"
        },
        "id": "qjhom4ZamUQK",
        "outputId": "c0bcba2c-bb22-4e36-da85-48cf70e3be58"
      },
      "execution_count": null,
      "outputs": [
        {
          "output_type": "stream",
          "name": "stdout",
          "text": [
            "Index(['symbol', 'company_name', 'latest_close'], dtype='object')\n",
            "<bound method IndexOpsMixin.tolist of Index(['symbol', 'company_name', 'latest_close'], dtype='object')>\n"
          ]
        }
      ]
    },
    {
      "cell_type": "markdown",
      "source": [
        "### Pandas Series Operations"
      ],
      "metadata": {
        "id": "x4FPAlrimuUU"
      }
    },
    {
      "cell_type": "code",
      "source": [
        "\n",
        "practice_df[\"latest_close\"]"
      ],
      "metadata": {
        "colab": {
          "base_uri": "https://localhost:8080/"
        },
        "id": "f9pj-b5lmbo2",
        "outputId": "b5944067-1d46-44b6-80ee-6553068e71c7"
      },
      "execution_count": null,
      "outputs": [
        {
          "output_type": "execute_result",
          "data": {
            "text/plain": [
              "0     100.0\n",
              "1     200.0\n",
              "2     300.0\n",
              "3    1000.0\n",
              "Name: latest_close, dtype: float64"
            ]
          },
          "metadata": {},
          "execution_count": 39
        }
      ]
    },
    {
      "cell_type": "code",
      "source": [
        "print(type(practice_df[\"latest_close\"]))\n"
      ],
      "metadata": {
        "colab": {
          "base_uri": "https://localhost:8080/"
        },
        "id": "jDAgyi6Km0rS",
        "outputId": "7ef1e50c-325d-4c5a-85ee-bb93640a317d"
      },
      "execution_count": null,
      "outputs": [
        {
          "output_type": "stream",
          "name": "stdout",
          "text": [
            "<class 'pandas.core.series.Series'>\n"
          ]
        }
      ]
    },
    {
      "cell_type": "code",
      "source": [
        "print(\"MIN:\", practice_df[\"latest_close\"].min())\n",
        "print(\"MAX:\", practice_df[\"latest_close\"].max())\n",
        "print(\"MEAN:\", practice_df[\"latest_close\"].mean())"
      ],
      "metadata": {
        "colab": {
          "base_uri": "https://localhost:8080/"
        },
        "id": "-M-Quqf3m3DG",
        "outputId": "8aa2d664-322a-4494-db90-11184c30e386"
      },
      "execution_count": null,
      "outputs": [
        {
          "output_type": "stream",
          "name": "stdout",
          "text": [
            "MIN: 100.0\n",
            "MAX: 1000.0\n",
            "MEAN: 400.0\n"
          ]
        }
      ]
    },
    {
      "cell_type": "markdown",
      "source": [
        "# CSV / XLSX Data Challenges"
      ],
      "metadata": {
        "id": "v27AsvpQXunR"
      }
    },
    {
      "cell_type": "markdown",
      "metadata": {
        "id": "5b06VpNVE4C5"
      },
      "source": [
        "## Challenge 5 (Gradebook CSV)"
      ]
    },
    {
      "cell_type": "markdown",
      "metadata": {
        "id": "20nwP1b_FNGe"
      },
      "source": [
        "\n",
        "Given the [provided hosted \"gradebook.csv\" file](https://raw.githubusercontent.com/prof-rossetti/intro-to-python/main/data/gradebook.csv), write Python code to read the CSV data and perform each of the following tasks...\n",
        "\n",
        "A) Print the number of students / rows (i.e. `10`).\n",
        "\n",
        "B) Print the column names (i.e. `[\"student_id\", \"final_grade\"]`).\n",
        "\n",
        "C) Print the average / mean grade (i.e. `83.64`).\n",
        "\n",
        "D) Print the median grade (i.e. `87.6`).\n",
        "\n",
        "E) Create another column on the DataFrame called \"letter_grade\", and use a custom function to assign each numeric score a corresponding letter grade. Use any grading scale you would like.\n",
        "\n",
        "F) Print the percentage of students who got each grade.\n",
        "\n"
      ]
    },
    {
      "cell_type": "code",
      "metadata": {
        "id": "2Xm_a4xF_Nwh",
        "colab": {
          "base_uri": "https://localhost:8080/"
        },
        "outputId": "dc622737-7241-48f9-b13e-6f9195a2089e"
      },
      "source": [
        "from statistics import mean, median\n",
        "import numpy as np\n",
        "\n",
        "from pandas import read_csv #, DataFrame\n",
        "\n",
        "#\n",
        "# GRADEBOOK\n",
        "#\n",
        "\n",
        "#df = read_csv(\"gradebook.csv\") # manual upload strategy\n",
        "df = read_csv(\"https://raw.githubusercontent.com/prof-rossetti/intro-to-python/main/data/gradebook.csv\") # hosted strategy\n",
        "print(df.head())\n"
      ],
      "execution_count": null,
      "outputs": [
        {
          "output_type": "stream",
          "name": "stdout",
          "text": [
            "   student_id  final_grade\n",
            "0           1         76.7\n",
            "1           2         85.1\n",
            "2           3         50.3\n",
            "3           4         89.8\n",
            "4           5         97.4\n"
          ]
        }
      ]
    },
    {
      "cell_type": "code",
      "source": [
        "\n"
      ],
      "metadata": {
        "id": "9UNydpLDZDVQ"
      },
      "execution_count": null,
      "outputs": []
    },
    {
      "cell_type": "code",
      "source": [
        "import numpy as np\n",
        "\n"
      ],
      "metadata": {
        "id": "TIXr49v9ZD3w"
      },
      "execution_count": null,
      "outputs": []
    },
    {
      "cell_type": "code",
      "source": [
        "\n"
      ],
      "metadata": {
        "id": "-oJQyNnRZDuw"
      },
      "execution_count": null,
      "outputs": []
    },
    {
      "cell_type": "code",
      "source": [
        "\n",
        "print(\"LETTER GRADES...\")\n",
        "\n",
        "def calculate_grade(score):\n",
        "    if score >= 75.0:\n",
        "        grade = \"Pass\"\n",
        "    else:\n",
        "        grade = \"Fail\"\n",
        "    return grade\n"
      ],
      "metadata": {
        "colab": {
          "base_uri": "https://localhost:8080/"
        },
        "id": "N0x_S5ouZKnS",
        "outputId": "56463af9-aae5-42a6-c4ac-7b6b10379c65"
      },
      "execution_count": null,
      "outputs": [
        {
          "output_type": "stream",
          "name": "stdout",
          "text": [
            "LETTER GRADES...\n"
          ]
        }
      ]
    },
    {
      "cell_type": "code",
      "source": [
        "calculate_grade(95)"
      ],
      "metadata": {
        "colab": {
          "base_uri": "https://localhost:8080/",
          "height": 35
        },
        "id": "CqXs9qpAbRbz",
        "outputId": "8359f272-a212-46a6-9ee1-fcdc45030dbc"
      },
      "execution_count": null,
      "outputs": [
        {
          "output_type": "execute_result",
          "data": {
            "text/plain": [
              "'Pass'"
            ],
            "application/vnd.google.colaboratory.intrinsic+json": {
              "type": "string"
            }
          },
          "metadata": {},
          "execution_count": 45
        }
      ]
    },
    {
      "cell_type": "code",
      "source": [
        "calculate_grade(40)"
      ],
      "metadata": {
        "colab": {
          "base_uri": "https://localhost:8080/",
          "height": 35
        },
        "id": "kGK4LblvbPk1",
        "outputId": "947a3c68-7888-42ca-a731-d2593fd8fa12"
      },
      "execution_count": null,
      "outputs": [
        {
          "output_type": "execute_result",
          "data": {
            "text/plain": [
              "'Fail'"
            ],
            "application/vnd.google.colaboratory.intrinsic+json": {
              "type": "string"
            }
          },
          "metadata": {},
          "execution_count": 46
        }
      ]
    },
    {
      "cell_type": "code",
      "source": [
        "\n"
      ],
      "metadata": {
        "id": "xoFCPZ8WbMZ2"
      },
      "execution_count": null,
      "outputs": []
    },
    {
      "cell_type": "code",
      "source": [
        "\n",
        "#print(df[\"letter_grade\"].value_counts())\n",
        "\n",
        "# print(df[\"letter_grade\"].value_counts(normalize=True))"
      ],
      "metadata": {
        "id": "G5wUsEGrZ9ES"
      },
      "execution_count": null,
      "outputs": []
    },
    {
      "cell_type": "markdown",
      "source": [
        "# Alphavantage API Data Challenges"
      ],
      "metadata": {
        "id": "64mLQYeBco7O"
      }
    },
    {
      "cell_type": "markdown",
      "source": [
        "For these challenges, we will be using data from the Alphavantage API.\n",
        "\n",
        "Before proceeding, take a moment to locate one of the professor's \"premium\" API Keys, shared via Slack and/or Canvas. This is a secret credential like a password, so it is important to securely provide the key via the setup cell below.\n",
        "\n",
        "First **run the setup cell** to provide the API Key.\n",
        "\n",
        "Then, for each of the challenges below:\n",
        "  1. Read the docs for the [AlphaVantage API](https://www.alphavantage.co/documentation/).\n",
        "  2. Find the endpoint and corresponding URL for requesting **unemployment data**.\n",
        "  3. Optionally make an example request in the browser, to verify the data is there and start to visually inspect its structure.\n",
        "  4. Make the request programmatically via Python.\n",
        "  5. Parse the response data, to answer the questions below.\n",
        "\n",
        "> NOTE: steps 1-4 have been done for you 😸\n",
        "\n"
      ],
      "metadata": {
        "id": "wH7dSuZ2QKwb"
      }
    },
    {
      "cell_type": "markdown",
      "source": [
        "### Setup Cell (API Key)"
      ],
      "metadata": {
        "id": "CCuS4jgreIaA"
      }
    },
    {
      "cell_type": "code",
      "source": [
        "#\n",
        "# SETUP CELL (RUN AND DO NOT MODIFY)\n",
        "#\n",
        "\n",
        "from getpass import getpass\n",
        "\n",
        "# copy one of the professor's premium keys from Canvas or Slack, \n",
        "# then run this cell and paste it when prompted\n",
        "# avoid printing or otherwise exposing this secret credential!\n",
        "API_KEY = getpass(\"Please input your Alphavantage API KEY: \") "
      ],
      "metadata": {
        "colab": {
          "base_uri": "https://localhost:8080/"
        },
        "id": "nzWQGm4yeHvX",
        "outputId": "9e3e4a19-253f-402d-9f5e-d04d73ca3036"
      },
      "execution_count": null,
      "outputs": [
        {
          "name": "stdout",
          "output_type": "stream",
          "text": [
            "Please input your Alphavantage API KEY: ··········\n"
          ]
        }
      ]
    },
    {
      "cell_type": "markdown",
      "source": [
        "### Challenge 6 (Unemployment JSON)"
      ],
      "metadata": {
        "id": "cGSAuL4ycxQv"
      }
    },
    {
      "cell_type": "markdown",
      "source": [
        "\n",
        "A)  What is the most recent unemployment rate? And the corresponding date? Display the unemployment rate using a percent sign.\n",
        "\n",
        "> NOTE: assume the most recent data is first (i.e. no need to sort, although it may be helpful / safe to do so)\n",
        "\n",
        "> HINT: use a format string or string concat to help with the percent sign display \n",
        "\n",
        "\n",
        "B) What is the average unemployment rate for all months during this calendar year? How many months are included?\n",
        "\n",
        "> HINT: use a filtering operation to get only the datapoints we care about. You could maybe use substring inclusion in your filter condition.\n",
        "\n",
        "> HINT: you might need to convert the string values to float datatype\n",
        "\n",
        "C) Plot a line chart of unemployment rates over time.\n",
        "\n",
        "> HINT: use the `matplotlib` or `plotly` package\n",
        "\n",
        "> HINT: you might need to convert the string values to float datatype\n"
      ],
      "metadata": {
        "id": "MZWGwHbxSMxr"
      }
    },
    {
      "cell_type": "code",
      "source": [
        "import requests\n",
        "import json\n",
        "#from pprint import pprint\n",
        "\n",
        "request_url = f\"https://www.alphavantage.co/query?function=UNEMPLOYMENT&apikey={API_KEY}\"\n",
        "\n",
        "response = requests.get(request_url)\n",
        "\n",
        "parsed_response = json.loads(response.text)\n",
        "print(type(parsed_response))\n",
        "print(parsed_response)\n",
        "#pprint(parsed_response)\n",
        "print(parsed_response.keys())"
      ],
      "metadata": {
        "colab": {
          "base_uri": "https://localhost:8080/"
        },
        "id": "sepxuyL5dph8",
        "outputId": "1bc1fd2c-8a99-4207-8618-6022c791f104"
      },
      "execution_count": null,
      "outputs": [
        {
          "output_type": "stream",
          "name": "stdout",
          "text": [
            "<class 'dict'>\n",
            "{'name': 'Unemployment Rate', 'interval': 'monthly', 'unit': 'percent', 'data': [{'date': '2022-11-01', 'value': '3.7'}, {'date': '2022-10-01', 'value': '3.7'}, {'date': '2022-09-01', 'value': '3.5'}, {'date': '2022-08-01', 'value': '3.7'}, {'date': '2022-07-01', 'value': '3.5'}, {'date': '2022-06-01', 'value': '3.6'}, {'date': '2022-05-01', 'value': '3.6'}, {'date': '2022-04-01', 'value': '3.6'}, {'date': '2022-03-01', 'value': '3.6'}, {'date': '2022-02-01', 'value': '3.8'}, {'date': '2022-01-01', 'value': '4.0'}, {'date': '2021-12-01', 'value': '3.9'}, {'date': '2021-11-01', 'value': '4.2'}, {'date': '2021-10-01', 'value': '4.6'}, {'date': '2021-09-01', 'value': '4.7'}, {'date': '2021-08-01', 'value': '5.2'}, {'date': '2021-07-01', 'value': '5.4'}, {'date': '2021-06-01', 'value': '5.9'}, {'date': '2021-05-01', 'value': '5.8'}, {'date': '2021-04-01', 'value': '6.0'}, {'date': '2021-03-01', 'value': '6.0'}, {'date': '2021-02-01', 'value': '6.2'}, {'date': '2021-01-01', 'value': '6.4'}, {'date': '2020-12-01', 'value': '6.7'}, {'date': '2020-11-01', 'value': '6.7'}, {'date': '2020-10-01', 'value': '6.9'}, {'date': '2020-09-01', 'value': '7.9'}, {'date': '2020-08-01', 'value': '8.4'}, {'date': '2020-07-01', 'value': '10.2'}, {'date': '2020-06-01', 'value': '11.0'}, {'date': '2020-05-01', 'value': '13.2'}, {'date': '2020-04-01', 'value': '14.7'}, {'date': '2020-03-01', 'value': '4.4'}, {'date': '2020-02-01', 'value': '3.5'}, {'date': '2020-01-01', 'value': '3.5'}, {'date': '2019-12-01', 'value': '3.6'}, {'date': '2019-11-01', 'value': '3.6'}, {'date': '2019-10-01', 'value': '3.6'}, {'date': '2019-09-01', 'value': '3.5'}, {'date': '2019-08-01', 'value': '3.7'}, {'date': '2019-07-01', 'value': '3.7'}, {'date': '2019-06-01', 'value': '3.6'}, {'date': '2019-05-01', 'value': '3.6'}, {'date': '2019-04-01', 'value': '3.6'}, {'date': '2019-03-01', 'value': '3.8'}, {'date': '2019-02-01', 'value': '3.8'}, {'date': '2019-01-01', 'value': '4.0'}, {'date': '2018-12-01', 'value': '3.9'}, {'date': '2018-11-01', 'value': '3.8'}, {'date': '2018-10-01', 'value': '3.8'}, {'date': '2018-09-01', 'value': '3.7'}, {'date': '2018-08-01', 'value': '3.8'}, {'date': '2018-07-01', 'value': '3.8'}, {'date': '2018-06-01', 'value': '4.0'}, {'date': '2018-05-01', 'value': '3.8'}, {'date': '2018-04-01', 'value': '4.0'}, {'date': '2018-03-01', 'value': '4.0'}, {'date': '2018-02-01', 'value': '4.1'}, {'date': '2018-01-01', 'value': '4.0'}, {'date': '2017-12-01', 'value': '4.1'}, {'date': '2017-11-01', 'value': '4.2'}, {'date': '2017-10-01', 'value': '4.2'}, {'date': '2017-09-01', 'value': '4.3'}, {'date': '2017-08-01', 'value': '4.4'}, {'date': '2017-07-01', 'value': '4.3'}, {'date': '2017-06-01', 'value': '4.3'}, {'date': '2017-05-01', 'value': '4.4'}, {'date': '2017-04-01', 'value': '4.4'}, {'date': '2017-03-01', 'value': '4.4'}, {'date': '2017-02-01', 'value': '4.6'}, {'date': '2017-01-01', 'value': '4.7'}, {'date': '2016-12-01', 'value': '4.7'}, {'date': '2016-11-01', 'value': '4.7'}, {'date': '2016-10-01', 'value': '4.9'}, {'date': '2016-09-01', 'value': '5.0'}, {'date': '2016-08-01', 'value': '4.9'}, {'date': '2016-07-01', 'value': '4.8'}, {'date': '2016-06-01', 'value': '4.9'}, {'date': '2016-05-01', 'value': '4.8'}, {'date': '2016-04-01', 'value': '5.1'}, {'date': '2016-03-01', 'value': '5.0'}, {'date': '2016-02-01', 'value': '4.9'}, {'date': '2016-01-01', 'value': '4.8'}, {'date': '2015-12-01', 'value': '5.0'}, {'date': '2015-11-01', 'value': '5.1'}, {'date': '2015-10-01', 'value': '5.0'}, {'date': '2015-09-01', 'value': '5.0'}, {'date': '2015-08-01', 'value': '5.1'}, {'date': '2015-07-01', 'value': '5.2'}, {'date': '2015-06-01', 'value': '5.3'}, {'date': '2015-05-01', 'value': '5.6'}, {'date': '2015-04-01', 'value': '5.4'}, {'date': '2015-03-01', 'value': '5.4'}, {'date': '2015-02-01', 'value': '5.5'}, {'date': '2015-01-01', 'value': '5.7'}, {'date': '2014-12-01', 'value': '5.6'}, {'date': '2014-11-01', 'value': '5.8'}, {'date': '2014-10-01', 'value': '5.7'}, {'date': '2014-09-01', 'value': '5.9'}, {'date': '2014-08-01', 'value': '6.1'}, {'date': '2014-07-01', 'value': '6.2'}, {'date': '2014-06-01', 'value': '6.1'}, {'date': '2014-05-01', 'value': '6.3'}, {'date': '2014-04-01', 'value': '6.2'}, {'date': '2014-03-01', 'value': '6.7'}, {'date': '2014-02-01', 'value': '6.7'}, {'date': '2014-01-01', 'value': '6.6'}, {'date': '2013-12-01', 'value': '6.7'}, {'date': '2013-11-01', 'value': '6.9'}, {'date': '2013-10-01', 'value': '7.2'}, {'date': '2013-09-01', 'value': '7.2'}, {'date': '2013-08-01', 'value': '7.2'}, {'date': '2013-07-01', 'value': '7.3'}, {'date': '2013-06-01', 'value': '7.5'}, {'date': '2013-05-01', 'value': '7.5'}, {'date': '2013-04-01', 'value': '7.6'}, {'date': '2013-03-01', 'value': '7.5'}, {'date': '2013-02-01', 'value': '7.7'}, {'date': '2013-01-01', 'value': '8.0'}, {'date': '2012-12-01', 'value': '7.9'}, {'date': '2012-11-01', 'value': '7.7'}, {'date': '2012-10-01', 'value': '7.8'}, {'date': '2012-09-01', 'value': '7.8'}, {'date': '2012-08-01', 'value': '8.1'}, {'date': '2012-07-01', 'value': '8.2'}, {'date': '2012-06-01', 'value': '8.2'}, {'date': '2012-05-01', 'value': '8.2'}, {'date': '2012-04-01', 'value': '8.2'}, {'date': '2012-03-01', 'value': '8.2'}, {'date': '2012-02-01', 'value': '8.3'}, {'date': '2012-01-01', 'value': '8.3'}, {'date': '2011-12-01', 'value': '8.5'}, {'date': '2011-11-01', 'value': '8.6'}, {'date': '2011-10-01', 'value': '8.8'}, {'date': '2011-09-01', 'value': '9.0'}, {'date': '2011-08-01', 'value': '9.0'}, {'date': '2011-07-01', 'value': '9.0'}, {'date': '2011-06-01', 'value': '9.1'}, {'date': '2011-05-01', 'value': '9.0'}, {'date': '2011-04-01', 'value': '9.1'}, {'date': '2011-03-01', 'value': '9.0'}, {'date': '2011-02-01', 'value': '9.0'}, {'date': '2011-01-01', 'value': '9.1'}, {'date': '2010-12-01', 'value': '9.3'}, {'date': '2010-11-01', 'value': '9.8'}, {'date': '2010-10-01', 'value': '9.4'}, {'date': '2010-09-01', 'value': '9.5'}, {'date': '2010-08-01', 'value': '9.5'}, {'date': '2010-07-01', 'value': '9.4'}, {'date': '2010-06-01', 'value': '9.4'}, {'date': '2010-05-01', 'value': '9.6'}, {'date': '2010-04-01', 'value': '9.9'}, {'date': '2010-03-01', 'value': '9.9'}, {'date': '2010-02-01', 'value': '9.8'}, {'date': '2010-01-01', 'value': '9.8'}, {'date': '2009-12-01', 'value': '9.9'}, {'date': '2009-11-01', 'value': '9.9'}, {'date': '2009-10-01', 'value': '10.0'}, {'date': '2009-09-01', 'value': '9.8'}, {'date': '2009-08-01', 'value': '9.6'}, {'date': '2009-07-01', 'value': '9.5'}, {'date': '2009-06-01', 'value': '9.5'}, {'date': '2009-05-01', 'value': '9.4'}, {'date': '2009-04-01', 'value': '9.0'}, {'date': '2009-03-01', 'value': '8.7'}, {'date': '2009-02-01', 'value': '8.3'}, {'date': '2009-01-01', 'value': '7.8'}, {'date': '2008-12-01', 'value': '7.3'}, {'date': '2008-11-01', 'value': '6.8'}, {'date': '2008-10-01', 'value': '6.5'}, {'date': '2008-09-01', 'value': '6.1'}, {'date': '2008-08-01', 'value': '6.1'}, {'date': '2008-07-01', 'value': '5.8'}, {'date': '2008-06-01', 'value': '5.6'}, {'date': '2008-05-01', 'value': '5.4'}, {'date': '2008-04-01', 'value': '5.0'}, {'date': '2008-03-01', 'value': '5.1'}, {'date': '2008-02-01', 'value': '4.9'}, {'date': '2008-01-01', 'value': '5.0'}, {'date': '2007-12-01', 'value': '5.0'}, {'date': '2007-11-01', 'value': '4.7'}, {'date': '2007-10-01', 'value': '4.7'}, {'date': '2007-09-01', 'value': '4.7'}, {'date': '2007-08-01', 'value': '4.6'}, {'date': '2007-07-01', 'value': '4.7'}, {'date': '2007-06-01', 'value': '4.6'}, {'date': '2007-05-01', 'value': '4.4'}, {'date': '2007-04-01', 'value': '4.5'}, {'date': '2007-03-01', 'value': '4.4'}, {'date': '2007-02-01', 'value': '4.5'}, {'date': '2007-01-01', 'value': '4.6'}, {'date': '2006-12-01', 'value': '4.4'}, {'date': '2006-11-01', 'value': '4.5'}, {'date': '2006-10-01', 'value': '4.4'}, {'date': '2006-09-01', 'value': '4.5'}, {'date': '2006-08-01', 'value': '4.7'}, {'date': '2006-07-01', 'value': '4.7'}, {'date': '2006-06-01', 'value': '4.6'}, {'date': '2006-05-01', 'value': '4.6'}, {'date': '2006-04-01', 'value': '4.7'}, {'date': '2006-03-01', 'value': '4.7'}, {'date': '2006-02-01', 'value': '4.8'}, {'date': '2006-01-01', 'value': '4.7'}, {'date': '2005-12-01', 'value': '4.9'}, {'date': '2005-11-01', 'value': '5.0'}, {'date': '2005-10-01', 'value': '5.0'}, {'date': '2005-09-01', 'value': '5.0'}, {'date': '2005-08-01', 'value': '4.9'}, {'date': '2005-07-01', 'value': '5.0'}, {'date': '2005-06-01', 'value': '5.0'}, {'date': '2005-05-01', 'value': '5.1'}, {'date': '2005-04-01', 'value': '5.2'}, {'date': '2005-03-01', 'value': '5.2'}, {'date': '2005-02-01', 'value': '5.4'}, {'date': '2005-01-01', 'value': '5.3'}, {'date': '2004-12-01', 'value': '5.4'}, {'date': '2004-11-01', 'value': '5.4'}, {'date': '2004-10-01', 'value': '5.5'}, {'date': '2004-09-01', 'value': '5.4'}, {'date': '2004-08-01', 'value': '5.4'}, {'date': '2004-07-01', 'value': '5.5'}, {'date': '2004-06-01', 'value': '5.6'}, {'date': '2004-05-01', 'value': '5.6'}, {'date': '2004-04-01', 'value': '5.6'}, {'date': '2004-03-01', 'value': '5.8'}, {'date': '2004-02-01', 'value': '5.6'}, {'date': '2004-01-01', 'value': '5.7'}, {'date': '2003-12-01', 'value': '5.7'}, {'date': '2003-11-01', 'value': '5.8'}, {'date': '2003-10-01', 'value': '6.0'}, {'date': '2003-09-01', 'value': '6.1'}, {'date': '2003-08-01', 'value': '6.1'}, {'date': '2003-07-01', 'value': '6.2'}, {'date': '2003-06-01', 'value': '6.3'}, {'date': '2003-05-01', 'value': '6.1'}, {'date': '2003-04-01', 'value': '6.0'}, {'date': '2003-03-01', 'value': '5.9'}, {'date': '2003-02-01', 'value': '5.9'}, {'date': '2003-01-01', 'value': '5.8'}, {'date': '2002-12-01', 'value': '6.0'}, {'date': '2002-11-01', 'value': '5.9'}, {'date': '2002-10-01', 'value': '5.7'}, {'date': '2002-09-01', 'value': '5.7'}, {'date': '2002-08-01', 'value': '5.7'}, {'date': '2002-07-01', 'value': '5.8'}, {'date': '2002-06-01', 'value': '5.8'}, {'date': '2002-05-01', 'value': '5.8'}, {'date': '2002-04-01', 'value': '5.9'}, {'date': '2002-03-01', 'value': '5.7'}, {'date': '2002-02-01', 'value': '5.7'}, {'date': '2002-01-01', 'value': '5.7'}, {'date': '2001-12-01', 'value': '5.7'}, {'date': '2001-11-01', 'value': '5.5'}, {'date': '2001-10-01', 'value': '5.3'}, {'date': '2001-09-01', 'value': '5.0'}, {'date': '2001-08-01', 'value': '4.9'}, {'date': '2001-07-01', 'value': '4.6'}, {'date': '2001-06-01', 'value': '4.5'}, {'date': '2001-05-01', 'value': '4.3'}, {'date': '2001-04-01', 'value': '4.4'}, {'date': '2001-03-01', 'value': '4.3'}, {'date': '2001-02-01', 'value': '4.2'}, {'date': '2001-01-01', 'value': '4.2'}, {'date': '2000-12-01', 'value': '3.9'}, {'date': '2000-11-01', 'value': '3.9'}, {'date': '2000-10-01', 'value': '3.9'}, {'date': '2000-09-01', 'value': '3.9'}, {'date': '2000-08-01', 'value': '4.1'}, {'date': '2000-07-01', 'value': '4.0'}, {'date': '2000-06-01', 'value': '4.0'}, {'date': '2000-05-01', 'value': '4.0'}, {'date': '2000-04-01', 'value': '3.8'}, {'date': '2000-03-01', 'value': '4.0'}, {'date': '2000-02-01', 'value': '4.1'}, {'date': '2000-01-01', 'value': '4.0'}, {'date': '1999-12-01', 'value': '4.0'}, {'date': '1999-11-01', 'value': '4.1'}, {'date': '1999-10-01', 'value': '4.1'}, {'date': '1999-09-01', 'value': '4.2'}, {'date': '1999-08-01', 'value': '4.2'}, {'date': '1999-07-01', 'value': '4.3'}, {'date': '1999-06-01', 'value': '4.3'}, {'date': '1999-05-01', 'value': '4.2'}, {'date': '1999-04-01', 'value': '4.3'}, {'date': '1999-03-01', 'value': '4.2'}, {'date': '1999-02-01', 'value': '4.4'}, {'date': '1999-01-01', 'value': '4.3'}, {'date': '1998-12-01', 'value': '4.4'}, {'date': '1998-11-01', 'value': '4.4'}, {'date': '1998-10-01', 'value': '4.5'}, {'date': '1998-09-01', 'value': '4.6'}, {'date': '1998-08-01', 'value': '4.5'}, {'date': '1998-07-01', 'value': '4.5'}, {'date': '1998-06-01', 'value': '4.5'}, {'date': '1998-05-01', 'value': '4.4'}, {'date': '1998-04-01', 'value': '4.3'}, {'date': '1998-03-01', 'value': '4.7'}, {'date': '1998-02-01', 'value': '4.6'}, {'date': '1998-01-01', 'value': '4.6'}, {'date': '1997-12-01', 'value': '4.7'}, {'date': '1997-11-01', 'value': '4.6'}, {'date': '1997-10-01', 'value': '4.7'}, {'date': '1997-09-01', 'value': '4.9'}, {'date': '1997-08-01', 'value': '4.8'}, {'date': '1997-07-01', 'value': '4.9'}, {'date': '1997-06-01', 'value': '5.0'}, {'date': '1997-05-01', 'value': '4.9'}, {'date': '1997-04-01', 'value': '5.1'}, {'date': '1997-03-01', 'value': '5.2'}, {'date': '1997-02-01', 'value': '5.2'}, {'date': '1997-01-01', 'value': '5.3'}, {'date': '1996-12-01', 'value': '5.4'}, {'date': '1996-11-01', 'value': '5.4'}, {'date': '1996-10-01', 'value': '5.2'}, {'date': '1996-09-01', 'value': '5.2'}, {'date': '1996-08-01', 'value': '5.1'}, {'date': '1996-07-01', 'value': '5.5'}, {'date': '1996-06-01', 'value': '5.3'}, {'date': '1996-05-01', 'value': '5.6'}, {'date': '1996-04-01', 'value': '5.6'}, {'date': '1996-03-01', 'value': '5.5'}, {'date': '1996-02-01', 'value': '5.5'}, {'date': '1996-01-01', 'value': '5.6'}, {'date': '1995-12-01', 'value': '5.6'}, {'date': '1995-11-01', 'value': '5.6'}, {'date': '1995-10-01', 'value': '5.5'}, {'date': '1995-09-01', 'value': '5.6'}, {'date': '1995-08-01', 'value': '5.7'}, {'date': '1995-07-01', 'value': '5.7'}, {'date': '1995-06-01', 'value': '5.6'}, {'date': '1995-05-01', 'value': '5.6'}, {'date': '1995-04-01', 'value': '5.8'}, {'date': '1995-03-01', 'value': '5.4'}, {'date': '1995-02-01', 'value': '5.4'}, {'date': '1995-01-01', 'value': '5.6'}, {'date': '1994-12-01', 'value': '5.5'}, {'date': '1994-11-01', 'value': '5.6'}, {'date': '1994-10-01', 'value': '5.8'}, {'date': '1994-09-01', 'value': '5.9'}, {'date': '1994-08-01', 'value': '6.0'}, {'date': '1994-07-01', 'value': '6.1'}, {'date': '1994-06-01', 'value': '6.1'}, {'date': '1994-05-01', 'value': '6.1'}, {'date': '1994-04-01', 'value': '6.4'}, {'date': '1994-03-01', 'value': '6.5'}, {'date': '1994-02-01', 'value': '6.6'}, {'date': '1994-01-01', 'value': '6.6'}, {'date': '1993-12-01', 'value': '6.5'}, {'date': '1993-11-01', 'value': '6.6'}, {'date': '1993-10-01', 'value': '6.8'}, {'date': '1993-09-01', 'value': '6.7'}, {'date': '1993-08-01', 'value': '6.8'}, {'date': '1993-07-01', 'value': '6.9'}, {'date': '1993-06-01', 'value': '7.0'}, {'date': '1993-05-01', 'value': '7.1'}, {'date': '1993-04-01', 'value': '7.1'}, {'date': '1993-03-01', 'value': '7.0'}, {'date': '1993-02-01', 'value': '7.1'}, {'date': '1993-01-01', 'value': '7.3'}, {'date': '1992-12-01', 'value': '7.4'}, {'date': '1992-11-01', 'value': '7.4'}, {'date': '1992-10-01', 'value': '7.3'}, {'date': '1992-09-01', 'value': '7.6'}, {'date': '1992-08-01', 'value': '7.6'}, {'date': '1992-07-01', 'value': '7.7'}, {'date': '1992-06-01', 'value': '7.8'}, {'date': '1992-05-01', 'value': '7.6'}, {'date': '1992-04-01', 'value': '7.4'}, {'date': '1992-03-01', 'value': '7.4'}, {'date': '1992-02-01', 'value': '7.4'}, {'date': '1992-01-01', 'value': '7.3'}, {'date': '1991-12-01', 'value': '7.3'}, {'date': '1991-11-01', 'value': '7.0'}, {'date': '1991-10-01', 'value': '7.0'}, {'date': '1991-09-01', 'value': '6.9'}, {'date': '1991-08-01', 'value': '6.9'}, {'date': '1991-07-01', 'value': '6.8'}, {'date': '1991-06-01', 'value': '6.9'}, {'date': '1991-05-01', 'value': '6.9'}, {'date': '1991-04-01', 'value': '6.7'}, {'date': '1991-03-01', 'value': '6.8'}, {'date': '1991-02-01', 'value': '6.6'}, {'date': '1991-01-01', 'value': '6.4'}, {'date': '1990-12-01', 'value': '6.3'}, {'date': '1990-11-01', 'value': '6.2'}, {'date': '1990-10-01', 'value': '5.9'}, {'date': '1990-09-01', 'value': '5.9'}, {'date': '1990-08-01', 'value': '5.7'}, {'date': '1990-07-01', 'value': '5.5'}, {'date': '1990-06-01', 'value': '5.2'}, {'date': '1990-05-01', 'value': '5.4'}, {'date': '1990-04-01', 'value': '5.4'}, {'date': '1990-03-01', 'value': '5.2'}, {'date': '1990-02-01', 'value': '5.3'}, {'date': '1990-01-01', 'value': '5.4'}, {'date': '1989-12-01', 'value': '5.4'}, {'date': '1989-11-01', 'value': '5.4'}, {'date': '1989-10-01', 'value': '5.3'}, {'date': '1989-09-01', 'value': '5.3'}, {'date': '1989-08-01', 'value': '5.2'}, {'date': '1989-07-01', 'value': '5.2'}, {'date': '1989-06-01', 'value': '5.3'}, {'date': '1989-05-01', 'value': '5.2'}, {'date': '1989-04-01', 'value': '5.2'}, {'date': '1989-03-01', 'value': '5.0'}, {'date': '1989-02-01', 'value': '5.2'}, {'date': '1989-01-01', 'value': '5.4'}, {'date': '1988-12-01', 'value': '5.3'}, {'date': '1988-11-01', 'value': '5.3'}, {'date': '1988-10-01', 'value': '5.4'}, {'date': '1988-09-01', 'value': '5.4'}, {'date': '1988-08-01', 'value': '5.6'}, {'date': '1988-07-01', 'value': '5.4'}, {'date': '1988-06-01', 'value': '5.4'}, {'date': '1988-05-01', 'value': '5.6'}, {'date': '1988-04-01', 'value': '5.4'}, {'date': '1988-03-01', 'value': '5.7'}, {'date': '1988-02-01', 'value': '5.7'}, {'date': '1988-01-01', 'value': '5.7'}, {'date': '1987-12-01', 'value': '5.7'}, {'date': '1987-11-01', 'value': '5.8'}, {'date': '1987-10-01', 'value': '6.0'}, {'date': '1987-09-01', 'value': '5.9'}, {'date': '1987-08-01', 'value': '6.0'}, {'date': '1987-07-01', 'value': '6.1'}, {'date': '1987-06-01', 'value': '6.2'}, {'date': '1987-05-01', 'value': '6.3'}, {'date': '1987-04-01', 'value': '6.3'}, {'date': '1987-03-01', 'value': '6.6'}, {'date': '1987-02-01', 'value': '6.6'}, {'date': '1987-01-01', 'value': '6.6'}, {'date': '1986-12-01', 'value': '6.6'}, {'date': '1986-11-01', 'value': '6.9'}, {'date': '1986-10-01', 'value': '7.0'}, {'date': '1986-09-01', 'value': '7.0'}, {'date': '1986-08-01', 'value': '6.9'}, {'date': '1986-07-01', 'value': '7.0'}, {'date': '1986-06-01', 'value': '7.2'}, {'date': '1986-05-01', 'value': '7.2'}, {'date': '1986-04-01', 'value': '7.1'}, {'date': '1986-03-01', 'value': '7.2'}, {'date': '1986-02-01', 'value': '7.2'}, {'date': '1986-01-01', 'value': '6.7'}, {'date': '1985-12-01', 'value': '7.0'}, {'date': '1985-11-01', 'value': '7.0'}, {'date': '1985-10-01', 'value': '7.1'}, {'date': '1985-09-01', 'value': '7.1'}, {'date': '1985-08-01', 'value': '7.1'}, {'date': '1985-07-01', 'value': '7.4'}, {'date': '1985-06-01', 'value': '7.4'}, {'date': '1985-05-01', 'value': '7.2'}, {'date': '1985-04-01', 'value': '7.3'}, {'date': '1985-03-01', 'value': '7.2'}, {'date': '1985-02-01', 'value': '7.2'}, {'date': '1985-01-01', 'value': '7.3'}, {'date': '1984-12-01', 'value': '7.3'}, {'date': '1984-11-01', 'value': '7.2'}, {'date': '1984-10-01', 'value': '7.4'}, {'date': '1984-09-01', 'value': '7.3'}, {'date': '1984-08-01', 'value': '7.5'}, {'date': '1984-07-01', 'value': '7.5'}, {'date': '1984-06-01', 'value': '7.2'}, {'date': '1984-05-01', 'value': '7.4'}, {'date': '1984-04-01', 'value': '7.7'}, {'date': '1984-03-01', 'value': '7.8'}, {'date': '1984-02-01', 'value': '7.8'}, {'date': '1984-01-01', 'value': '8.0'}, {'date': '1983-12-01', 'value': '8.3'}, {'date': '1983-11-01', 'value': '8.5'}, {'date': '1983-10-01', 'value': '8.8'}, {'date': '1983-09-01', 'value': '9.2'}, {'date': '1983-08-01', 'value': '9.5'}, {'date': '1983-07-01', 'value': '9.4'}, {'date': '1983-06-01', 'value': '10.1'}, {'date': '1983-05-01', 'value': '10.1'}, {'date': '1983-04-01', 'value': '10.2'}, {'date': '1983-03-01', 'value': '10.3'}, {'date': '1983-02-01', 'value': '10.4'}, {'date': '1983-01-01', 'value': '10.4'}, {'date': '1982-12-01', 'value': '10.8'}, {'date': '1982-11-01', 'value': '10.8'}, {'date': '1982-10-01', 'value': '10.4'}, {'date': '1982-09-01', 'value': '10.1'}, {'date': '1982-08-01', 'value': '9.8'}, {'date': '1982-07-01', 'value': '9.8'}, {'date': '1982-06-01', 'value': '9.6'}, {'date': '1982-05-01', 'value': '9.4'}, {'date': '1982-04-01', 'value': '9.3'}, {'date': '1982-03-01', 'value': '9.0'}, {'date': '1982-02-01', 'value': '8.9'}, {'date': '1982-01-01', 'value': '8.6'}, {'date': '1981-12-01', 'value': '8.5'}, {'date': '1981-11-01', 'value': '8.3'}, {'date': '1981-10-01', 'value': '7.9'}, {'date': '1981-09-01', 'value': '7.6'}, {'date': '1981-08-01', 'value': '7.4'}, {'date': '1981-07-01', 'value': '7.2'}, {'date': '1981-06-01', 'value': '7.5'}, {'date': '1981-05-01', 'value': '7.5'}, {'date': '1981-04-01', 'value': '7.2'}, {'date': '1981-03-01', 'value': '7.4'}, {'date': '1981-02-01', 'value': '7.4'}, {'date': '1981-01-01', 'value': '7.5'}, {'date': '1980-12-01', 'value': '7.2'}, {'date': '1980-11-01', 'value': '7.5'}, {'date': '1980-10-01', 'value': '7.5'}, {'date': '1980-09-01', 'value': '7.5'}, {'date': '1980-08-01', 'value': '7.7'}, {'date': '1980-07-01', 'value': '7.8'}, {'date': '1980-06-01', 'value': '7.6'}, {'date': '1980-05-01', 'value': '7.5'}, {'date': '1980-04-01', 'value': '6.9'}, {'date': '1980-03-01', 'value': '6.3'}, {'date': '1980-02-01', 'value': '6.3'}, {'date': '1980-01-01', 'value': '6.3'}, {'date': '1979-12-01', 'value': '6.0'}, {'date': '1979-11-01', 'value': '5.9'}, {'date': '1979-10-01', 'value': '6.0'}, {'date': '1979-09-01', 'value': '5.9'}, {'date': '1979-08-01', 'value': '6.0'}, {'date': '1979-07-01', 'value': '5.7'}, {'date': '1979-06-01', 'value': '5.7'}, {'date': '1979-05-01', 'value': '5.6'}, {'date': '1979-04-01', 'value': '5.8'}, {'date': '1979-03-01', 'value': '5.8'}, {'date': '1979-02-01', 'value': '5.9'}, {'date': '1979-01-01', 'value': '5.9'}, {'date': '1978-12-01', 'value': '6.0'}, {'date': '1978-11-01', 'value': '5.9'}, {'date': '1978-10-01', 'value': '5.8'}, {'date': '1978-09-01', 'value': '6.0'}, {'date': '1978-08-01', 'value': '5.9'}, {'date': '1978-07-01', 'value': '6.2'}, {'date': '1978-06-01', 'value': '5.9'}, {'date': '1978-05-01', 'value': '6.0'}, {'date': '1978-04-01', 'value': '6.1'}, {'date': '1978-03-01', 'value': '6.3'}, {'date': '1978-02-01', 'value': '6.3'}, {'date': '1978-01-01', 'value': '6.4'}, {'date': '1977-12-01', 'value': '6.4'}, {'date': '1977-11-01', 'value': '6.8'}, {'date': '1977-10-01', 'value': '6.8'}, {'date': '1977-09-01', 'value': '6.8'}, {'date': '1977-08-01', 'value': '7.0'}, {'date': '1977-07-01', 'value': '6.9'}, {'date': '1977-06-01', 'value': '7.2'}, {'date': '1977-05-01', 'value': '7.0'}, {'date': '1977-04-01', 'value': '7.2'}, {'date': '1977-03-01', 'value': '7.4'}, {'date': '1977-02-01', 'value': '7.6'}, {'date': '1977-01-01', 'value': '7.5'}, {'date': '1976-12-01', 'value': '7.8'}, {'date': '1976-11-01', 'value': '7.8'}, {'date': '1976-10-01', 'value': '7.7'}, {'date': '1976-09-01', 'value': '7.6'}, {'date': '1976-08-01', 'value': '7.8'}, {'date': '1976-07-01', 'value': '7.8'}, {'date': '1976-06-01', 'value': '7.6'}, {'date': '1976-05-01', 'value': '7.4'}, {'date': '1976-04-01', 'value': '7.7'}, {'date': '1976-03-01', 'value': '7.6'}, {'date': '1976-02-01', 'value': '7.7'}, {'date': '1976-01-01', 'value': '7.9'}, {'date': '1975-12-01', 'value': '8.2'}, {'date': '1975-11-01', 'value': '8.3'}, {'date': '1975-10-01', 'value': '8.4'}, {'date': '1975-09-01', 'value': '8.4'}, {'date': '1975-08-01', 'value': '8.4'}, {'date': '1975-07-01', 'value': '8.6'}, {'date': '1975-06-01', 'value': '8.8'}, {'date': '1975-05-01', 'value': '9.0'}, {'date': '1975-04-01', 'value': '8.8'}, {'date': '1975-03-01', 'value': '8.6'}, {'date': '1975-02-01', 'value': '8.1'}, {'date': '1975-01-01', 'value': '8.1'}, {'date': '1974-12-01', 'value': '7.2'}, {'date': '1974-11-01', 'value': '6.6'}, {'date': '1974-10-01', 'value': '6.0'}, {'date': '1974-09-01', 'value': '5.9'}, {'date': '1974-08-01', 'value': '5.5'}, {'date': '1974-07-01', 'value': '5.5'}, {'date': '1974-06-01', 'value': '5.4'}, {'date': '1974-05-01', 'value': '5.1'}, {'date': '1974-04-01', 'value': '5.1'}, {'date': '1974-03-01', 'value': '5.1'}, {'date': '1974-02-01', 'value': '5.2'}, {'date': '1974-01-01', 'value': '5.1'}, {'date': '1973-12-01', 'value': '4.9'}, {'date': '1973-11-01', 'value': '4.8'}, {'date': '1973-10-01', 'value': '4.6'}, {'date': '1973-09-01', 'value': '4.8'}, {'date': '1973-08-01', 'value': '4.8'}, {'date': '1973-07-01', 'value': '4.8'}, {'date': '1973-06-01', 'value': '4.9'}, {'date': '1973-05-01', 'value': '4.9'}, {'date': '1973-04-01', 'value': '5.0'}, {'date': '1973-03-01', 'value': '4.9'}, {'date': '1973-02-01', 'value': '5.0'}, {'date': '1973-01-01', 'value': '4.9'}, {'date': '1972-12-01', 'value': '5.2'}, {'date': '1972-11-01', 'value': '5.3'}, {'date': '1972-10-01', 'value': '5.6'}, {'date': '1972-09-01', 'value': '5.5'}, {'date': '1972-08-01', 'value': '5.6'}, {'date': '1972-07-01', 'value': '5.6'}, {'date': '1972-06-01', 'value': '5.7'}, {'date': '1972-05-01', 'value': '5.7'}, {'date': '1972-04-01', 'value': '5.7'}, {'date': '1972-03-01', 'value': '5.8'}, {'date': '1972-02-01', 'value': '5.7'}, {'date': '1972-01-01', 'value': '5.8'}, {'date': '1971-12-01', 'value': '6.0'}, {'date': '1971-11-01', 'value': '6.0'}, {'date': '1971-10-01', 'value': '5.8'}, {'date': '1971-09-01', 'value': '6.0'}, {'date': '1971-08-01', 'value': '6.1'}, {'date': '1971-07-01', 'value': '6.0'}, {'date': '1971-06-01', 'value': '5.9'}, {'date': '1971-05-01', 'value': '5.9'}, {'date': '1971-04-01', 'value': '5.9'}, {'date': '1971-03-01', 'value': '6.0'}, {'date': '1971-02-01', 'value': '5.9'}, {'date': '1971-01-01', 'value': '5.9'}, {'date': '1970-12-01', 'value': '6.1'}, {'date': '1970-11-01', 'value': '5.9'}, {'date': '1970-10-01', 'value': '5.5'}, {'date': '1970-09-01', 'value': '5.4'}, {'date': '1970-08-01', 'value': '5.1'}, {'date': '1970-07-01', 'value': '5.0'}, {'date': '1970-06-01', 'value': '4.9'}, {'date': '1970-05-01', 'value': '4.8'}, {'date': '1970-04-01', 'value': '4.6'}, {'date': '1970-03-01', 'value': '4.4'}, {'date': '1970-02-01', 'value': '4.2'}, {'date': '1970-01-01', 'value': '3.9'}, {'date': '1969-12-01', 'value': '3.5'}, {'date': '1969-11-01', 'value': '3.5'}, {'date': '1969-10-01', 'value': '3.7'}, {'date': '1969-09-01', 'value': '3.7'}, {'date': '1969-08-01', 'value': '3.5'}, {'date': '1969-07-01', 'value': '3.5'}, {'date': '1969-06-01', 'value': '3.5'}, {'date': '1969-05-01', 'value': '3.4'}, {'date': '1969-04-01', 'value': '3.4'}, {'date': '1969-03-01', 'value': '3.4'}, {'date': '1969-02-01', 'value': '3.4'}, {'date': '1969-01-01', 'value': '3.4'}, {'date': '1968-12-01', 'value': '3.4'}, {'date': '1968-11-01', 'value': '3.4'}, {'date': '1968-10-01', 'value': '3.4'}, {'date': '1968-09-01', 'value': '3.4'}, {'date': '1968-08-01', 'value': '3.5'}, {'date': '1968-07-01', 'value': '3.7'}, {'date': '1968-06-01', 'value': '3.7'}, {'date': '1968-05-01', 'value': '3.5'}, {'date': '1968-04-01', 'value': '3.5'}, {'date': '1968-03-01', 'value': '3.7'}, {'date': '1968-02-01', 'value': '3.8'}, {'date': '1968-01-01', 'value': '3.7'}, {'date': '1967-12-01', 'value': '3.8'}, {'date': '1967-11-01', 'value': '3.9'}, {'date': '1967-10-01', 'value': '4.0'}, {'date': '1967-09-01', 'value': '3.8'}, {'date': '1967-08-01', 'value': '3.8'}, {'date': '1967-07-01', 'value': '3.8'}, {'date': '1967-06-01', 'value': '3.9'}, {'date': '1967-05-01', 'value': '3.8'}, {'date': '1967-04-01', 'value': '3.8'}, {'date': '1967-03-01', 'value': '3.8'}, {'date': '1967-02-01', 'value': '3.8'}, {'date': '1967-01-01', 'value': '3.9'}, {'date': '1966-12-01', 'value': '3.8'}, {'date': '1966-11-01', 'value': '3.6'}, {'date': '1966-10-01', 'value': '3.7'}, {'date': '1966-09-01', 'value': '3.7'}, {'date': '1966-08-01', 'value': '3.8'}, {'date': '1966-07-01', 'value': '3.8'}, {'date': '1966-06-01', 'value': '3.8'}, {'date': '1966-05-01', 'value': '3.9'}, {'date': '1966-04-01', 'value': '3.8'}, {'date': '1966-03-01', 'value': '3.8'}, {'date': '1966-02-01', 'value': '3.8'}, {'date': '1966-01-01', 'value': '4.0'}, {'date': '1965-12-01', 'value': '4.0'}, {'date': '1965-11-01', 'value': '4.1'}, {'date': '1965-10-01', 'value': '4.2'}, {'date': '1965-09-01', 'value': '4.3'}, {'date': '1965-08-01', 'value': '4.4'}, {'date': '1965-07-01', 'value': '4.4'}, {'date': '1965-06-01', 'value': '4.6'}, {'date': '1965-05-01', 'value': '4.6'}, {'date': '1965-04-01', 'value': '4.8'}, {'date': '1965-03-01', 'value': '4.7'}, {'date': '1965-02-01', 'value': '5.1'}, {'date': '1965-01-01', 'value': '4.9'}, {'date': '1964-12-01', 'value': '5.0'}, {'date': '1964-11-01', 'value': '4.8'}, {'date': '1964-10-01', 'value': '5.1'}, {'date': '1964-09-01', 'value': '5.1'}, {'date': '1964-08-01', 'value': '5.0'}, {'date': '1964-07-01', 'value': '4.9'}, {'date': '1964-06-01', 'value': '5.2'}, {'date': '1964-05-01', 'value': '5.1'}, {'date': '1964-04-01', 'value': '5.3'}, {'date': '1964-03-01', 'value': '5.4'}, {'date': '1964-02-01', 'value': '5.4'}, {'date': '1964-01-01', 'value': '5.6'}, {'date': '1963-12-01', 'value': '5.5'}, {'date': '1963-11-01', 'value': '5.7'}, {'date': '1963-10-01', 'value': '5.5'}, {'date': '1963-09-01', 'value': '5.5'}, {'date': '1963-08-01', 'value': '5.4'}, {'date': '1963-07-01', 'value': '5.6'}, {'date': '1963-06-01', 'value': '5.6'}, {'date': '1963-05-01', 'value': '5.9'}, {'date': '1963-04-01', 'value': '5.7'}, {'date': '1963-03-01', 'value': '5.7'}, {'date': '1963-02-01', 'value': '5.9'}, {'date': '1963-01-01', 'value': '5.7'}, {'date': '1962-12-01', 'value': '5.5'}, {'date': '1962-11-01', 'value': '5.7'}, {'date': '1962-10-01', 'value': '5.4'}, {'date': '1962-09-01', 'value': '5.6'}, {'date': '1962-08-01', 'value': '5.7'}, {'date': '1962-07-01', 'value': '5.4'}, {'date': '1962-06-01', 'value': '5.5'}, {'date': '1962-05-01', 'value': '5.5'}, {'date': '1962-04-01', 'value': '5.6'}, {'date': '1962-03-01', 'value': '5.6'}, {'date': '1962-02-01', 'value': '5.5'}, {'date': '1962-01-01', 'value': '5.8'}, {'date': '1961-12-01', 'value': '6.0'}, {'date': '1961-11-01', 'value': '6.1'}, {'date': '1961-10-01', 'value': '6.5'}, {'date': '1961-09-01', 'value': '6.7'}, {'date': '1961-08-01', 'value': '6.6'}, {'date': '1961-07-01', 'value': '7.0'}, {'date': '1961-06-01', 'value': '6.9'}, {'date': '1961-05-01', 'value': '7.1'}, {'date': '1961-04-01', 'value': '7.0'}, {'date': '1961-03-01', 'value': '6.9'}, {'date': '1961-02-01', 'value': '6.9'}, {'date': '1961-01-01', 'value': '6.6'}, {'date': '1960-12-01', 'value': '6.6'}, {'date': '1960-11-01', 'value': '6.1'}, {'date': '1960-10-01', 'value': '6.1'}, {'date': '1960-09-01', 'value': '5.5'}, {'date': '1960-08-01', 'value': '5.6'}, {'date': '1960-07-01', 'value': '5.5'}, {'date': '1960-06-01', 'value': '5.4'}, {'date': '1960-05-01', 'value': '5.1'}, {'date': '1960-04-01', 'value': '5.2'}, {'date': '1960-03-01', 'value': '5.4'}, {'date': '1960-02-01', 'value': '4.8'}, {'date': '1960-01-01', 'value': '5.2'}, {'date': '1959-12-01', 'value': '5.3'}, {'date': '1959-11-01', 'value': '5.8'}, {'date': '1959-10-01', 'value': '5.7'}, {'date': '1959-09-01', 'value': '5.5'}, {'date': '1959-08-01', 'value': '5.2'}, {'date': '1959-07-01', 'value': '5.1'}, {'date': '1959-06-01', 'value': '5.0'}, {'date': '1959-05-01', 'value': '5.1'}, {'date': '1959-04-01', 'value': '5.2'}, {'date': '1959-03-01', 'value': '5.6'}, {'date': '1959-02-01', 'value': '5.9'}, {'date': '1959-01-01', 'value': '6.0'}, {'date': '1958-12-01', 'value': '6.2'}, {'date': '1958-11-01', 'value': '6.2'}, {'date': '1958-10-01', 'value': '6.7'}, {'date': '1958-09-01', 'value': '7.1'}, {'date': '1958-08-01', 'value': '7.4'}, {'date': '1958-07-01', 'value': '7.5'}, {'date': '1958-06-01', 'value': '7.3'}, {'date': '1958-05-01', 'value': '7.4'}, {'date': '1958-04-01', 'value': '7.4'}, {'date': '1958-03-01', 'value': '6.7'}, {'date': '1958-02-01', 'value': '6.4'}, {'date': '1958-01-01', 'value': '5.8'}, {'date': '1957-12-01', 'value': '5.2'}, {'date': '1957-11-01', 'value': '5.1'}, {'date': '1957-10-01', 'value': '4.5'}, {'date': '1957-09-01', 'value': '4.4'}, {'date': '1957-08-01', 'value': '4.1'}, {'date': '1957-07-01', 'value': '4.2'}, {'date': '1957-06-01', 'value': '4.3'}, {'date': '1957-05-01', 'value': '4.1'}, {'date': '1957-04-01', 'value': '3.9'}, {'date': '1957-03-01', 'value': '3.7'}, {'date': '1957-02-01', 'value': '3.9'}, {'date': '1957-01-01', 'value': '4.2'}, {'date': '1956-12-01', 'value': '4.2'}, {'date': '1956-11-01', 'value': '4.3'}, {'date': '1956-10-01', 'value': '3.9'}, {'date': '1956-09-01', 'value': '3.9'}, {'date': '1956-08-01', 'value': '4.1'}, {'date': '1956-07-01', 'value': '4.4'}, {'date': '1956-06-01', 'value': '4.3'}, {'date': '1956-05-01', 'value': '4.3'}, {'date': '1956-04-01', 'value': '4.0'}, {'date': '1956-03-01', 'value': '4.2'}, {'date': '1956-02-01', 'value': '3.9'}, {'date': '1956-01-01', 'value': '4.0'}, {'date': '1955-12-01', 'value': '4.2'}, {'date': '1955-11-01', 'value': '4.2'}, {'date': '1955-10-01', 'value': '4.3'}, {'date': '1955-09-01', 'value': '4.1'}, {'date': '1955-08-01', 'value': '4.2'}, {'date': '1955-07-01', 'value': '4.0'}, {'date': '1955-06-01', 'value': '4.2'}, {'date': '1955-05-01', 'value': '4.3'}, {'date': '1955-04-01', 'value': '4.7'}, {'date': '1955-03-01', 'value': '4.6'}, {'date': '1955-02-01', 'value': '4.7'}, {'date': '1955-01-01', 'value': '4.9'}, {'date': '1954-12-01', 'value': '5.0'}, {'date': '1954-11-01', 'value': '5.3'}, {'date': '1954-10-01', 'value': '5.7'}, {'date': '1954-09-01', 'value': '6.1'}, {'date': '1954-08-01', 'value': '6.0'}, {'date': '1954-07-01', 'value': '5.8'}, {'date': '1954-06-01', 'value': '5.6'}, {'date': '1954-05-01', 'value': '5.9'}, {'date': '1954-04-01', 'value': '5.9'}, {'date': '1954-03-01', 'value': '5.7'}, {'date': '1954-02-01', 'value': '5.2'}, {'date': '1954-01-01', 'value': '4.9'}, {'date': '1953-12-01', 'value': '4.5'}, {'date': '1953-11-01', 'value': '3.5'}, {'date': '1953-10-01', 'value': '3.1'}, {'date': '1953-09-01', 'value': '2.9'}, {'date': '1953-08-01', 'value': '2.7'}, {'date': '1953-07-01', 'value': '2.6'}, {'date': '1953-06-01', 'value': '2.5'}, {'date': '1953-05-01', 'value': '2.5'}, {'date': '1953-04-01', 'value': '2.7'}, {'date': '1953-03-01', 'value': '2.6'}, {'date': '1953-02-01', 'value': '2.6'}, {'date': '1953-01-01', 'value': '2.9'}, {'date': '1952-12-01', 'value': '2.7'}, {'date': '1952-11-01', 'value': '2.8'}, {'date': '1952-10-01', 'value': '3.0'}, {'date': '1952-09-01', 'value': '3.1'}, {'date': '1952-08-01', 'value': '3.4'}, {'date': '1952-07-01', 'value': '3.2'}, {'date': '1952-06-01', 'value': '3.0'}, {'date': '1952-05-01', 'value': '3.0'}, {'date': '1952-04-01', 'value': '2.9'}, {'date': '1952-03-01', 'value': '2.9'}, {'date': '1952-02-01', 'value': '3.1'}, {'date': '1952-01-01', 'value': '3.2'}, {'date': '1951-12-01', 'value': '3.1'}, {'date': '1951-11-01', 'value': '3.5'}, {'date': '1951-10-01', 'value': '3.5'}, {'date': '1951-09-01', 'value': '3.3'}, {'date': '1951-08-01', 'value': '3.1'}, {'date': '1951-07-01', 'value': '3.1'}, {'date': '1951-06-01', 'value': '3.2'}, {'date': '1951-05-01', 'value': '3.0'}, {'date': '1951-04-01', 'value': '3.1'}, {'date': '1951-03-01', 'value': '3.4'}, {'date': '1951-02-01', 'value': '3.4'}, {'date': '1951-01-01', 'value': '3.7'}, {'date': '1950-12-01', 'value': '4.3'}, {'date': '1950-11-01', 'value': '4.2'}, {'date': '1950-10-01', 'value': '4.2'}, {'date': '1950-09-01', 'value': '4.4'}, {'date': '1950-08-01', 'value': '4.5'}, {'date': '1950-07-01', 'value': '5.0'}, {'date': '1950-06-01', 'value': '5.4'}, {'date': '1950-05-01', 'value': '5.5'}, {'date': '1950-04-01', 'value': '5.8'}, {'date': '1950-03-01', 'value': '6.3'}, {'date': '1950-02-01', 'value': '6.4'}, {'date': '1950-01-01', 'value': '6.5'}, {'date': '1949-12-01', 'value': '6.6'}, {'date': '1949-11-01', 'value': '6.4'}, {'date': '1949-10-01', 'value': '7.9'}, {'date': '1949-09-01', 'value': '6.6'}, {'date': '1949-08-01', 'value': '6.8'}, {'date': '1949-07-01', 'value': '6.7'}, {'date': '1949-06-01', 'value': '6.2'}, {'date': '1949-05-01', 'value': '6.1'}, {'date': '1949-04-01', 'value': '5.3'}, {'date': '1949-03-01', 'value': '5.0'}, {'date': '1949-02-01', 'value': '4.7'}, {'date': '1949-01-01', 'value': '4.3'}, {'date': '1948-12-01', 'value': '4.0'}, {'date': '1948-11-01', 'value': '3.8'}, {'date': '1948-10-01', 'value': '3.7'}, {'date': '1948-09-01', 'value': '3.8'}, {'date': '1948-08-01', 'value': '3.9'}, {'date': '1948-07-01', 'value': '3.6'}, {'date': '1948-06-01', 'value': '3.6'}, {'date': '1948-05-01', 'value': '3.5'}, {'date': '1948-04-01', 'value': '3.9'}, {'date': '1948-03-01', 'value': '4.0'}, {'date': '1948-02-01', 'value': '3.8'}, {'date': '1948-01-01', 'value': '3.4'}]}\n",
            "dict_keys(['name', 'interval', 'unit', 'data'])\n"
          ]
        }
      ]
    },
    {
      "cell_type": "code",
      "source": [
        "print(parsed_response[\"name\"])"
      ],
      "metadata": {
        "colab": {
          "base_uri": "https://localhost:8080/"
        },
        "id": "flvWvRXNeo2A",
        "outputId": "da3aeca4-8d65-4668-c323-cef3085d91e5"
      },
      "execution_count": null,
      "outputs": [
        {
          "output_type": "stream",
          "name": "stdout",
          "text": [
            "Unemployment Rate\n"
          ]
        }
      ]
    },
    {
      "cell_type": "code",
      "source": [
        "data = parsed_response[\"data\"]\n",
        "print(type(data))"
      ],
      "metadata": {
        "colab": {
          "base_uri": "https://localhost:8080/"
        },
        "id": "KE-c9rVuerDe",
        "outputId": "bfcae5bb-9b49-4e22-a351-edd1a175ca67"
      },
      "execution_count": null,
      "outputs": [
        {
          "output_type": "stream",
          "name": "stdout",
          "text": [
            "<class 'list'>\n"
          ]
        }
      ]
    },
    {
      "cell_type": "code",
      "source": [
        "# Challenge A\n",
        "#\n",
        "# What is the most recent unemployment rate? And the corresponding date? \n",
        "# Display the unemployment rate using a percent sign.\n",
        "\n",
        "print(\"-------------------------\")\n",
        "print(\"LATEST UNEMPLOYMENT RATE:\")\n",
        "#print(data[0])\n",
        "print(f\"{data[0]['value']}%\", \"as of\", data[0][\"date\"])"
      ],
      "metadata": {
        "colab": {
          "base_uri": "https://localhost:8080/"
        },
        "id": "XlvchZIGeyYL",
        "outputId": "5bdb51a1-8c60-4567-ec1f-939b2b2c75df"
      },
      "execution_count": null,
      "outputs": [
        {
          "output_type": "stream",
          "name": "stdout",
          "text": [
            "-------------------------\n",
            "LATEST UNEMPLOYMENT RATE:\n",
            "3.7% as of 2022-11-01\n"
          ]
        }
      ]
    },
    {
      "cell_type": "code",
      "source": [
        "\n",
        "# Challenge B\n",
        "# \n",
        "# What is the average unemployment rate for all months during this calendar year?\n",
        "# ... How many months does this cover?\n",
        "\n",
        "from statistics import mean\n",
        "\n",
        "this_year = [d for d in data if \"2022-\" in d[\"date\"]]\n",
        "\n",
        "rates_this_year = [float(d[\"value\"]) for d in this_year]\n",
        "#print(rates_this_year)\n",
        "\n",
        "print(\"-------------------------\")\n",
        "print(\"AVG UNEMPLOYMENT THIS YEAR:\", f\"{mean(rates_this_year)}%\")\n",
        "print(\"NO MONTHS:\", len(this_year))"
      ],
      "metadata": {
        "colab": {
          "base_uri": "https://localhost:8080/"
        },
        "id": "Vd1oep07eyVb",
        "outputId": "be485845-ff28-402d-c033-3873e787ece8"
      },
      "execution_count": null,
      "outputs": [
        {
          "output_type": "stream",
          "name": "stdout",
          "text": [
            "-------------------------\n",
            "AVG UNEMPLOYMENT THIS YEAR: 3.6636363636363636%\n",
            "NO MONTHS: 11\n"
          ]
        }
      ]
    },
    {
      "cell_type": "code",
      "source": [
        "# Challenge C\n",
        "# \n",
        "# Plot a line chart of unemployment rates over time.\n",
        "\n",
        "from plotly.express import line\n",
        "\n",
        "dates = [d[\"date\"] for d in data]\n",
        "rates = [float(d[\"value\"]) for d in data]\n",
        "\n",
        "fig = line(x=dates, y=rates, title=\"United States Unemployment Rate over time\", labels= {\"x\": \"Month\", \"y\": \"Unemployment Rate\"})\n",
        "fig.show()"
      ],
      "metadata": {
        "colab": {
          "base_uri": "https://localhost:8080/",
          "height": 542
        },
        "id": "p2lWcSk3eySe",
        "outputId": "f6beb674-e4c4-4d66-ad7f-aeca475f388c"
      },
      "execution_count": null,
      "outputs": [
        {
          "output_type": "display_data",
          "data": {
            "text/html": [
              "<html>\n",
              "<head><meta charset=\"utf-8\" /></head>\n",
              "<body>\n",
              "    <div>            <script src=\"https://cdnjs.cloudflare.com/ajax/libs/mathjax/2.7.5/MathJax.js?config=TeX-AMS-MML_SVG\"></script><script type=\"text/javascript\">if (window.MathJax) {MathJax.Hub.Config({SVG: {font: \"STIX-Web\"}});}</script>                <script type=\"text/javascript\">window.PlotlyConfig = {MathJaxConfig: 'local'};</script>\n",
              "        <script src=\"https://cdn.plot.ly/plotly-2.8.3.min.js\"></script>                <div id=\"cfeace64-b12b-4c89-af64-8b957ab719ed\" class=\"plotly-graph-div\" style=\"height:525px; width:100%;\"></div>            <script type=\"text/javascript\">                                    window.PLOTLYENV=window.PLOTLYENV || {};                                    if (document.getElementById(\"cfeace64-b12b-4c89-af64-8b957ab719ed\")) {                    Plotly.newPlot(                        \"cfeace64-b12b-4c89-af64-8b957ab719ed\",                        [{\"hovertemplate\":\"Month=%{x}<br>Unemployment Rate=%{y}<extra></extra>\",\"legendgroup\":\"\",\"line\":{\"color\":\"#636efa\",\"dash\":\"solid\"},\"marker\":{\"symbol\":\"circle\"},\"mode\":\"lines\",\"name\":\"\",\"orientation\":\"v\",\"showlegend\":false,\"x\":[\"2022-11-01\",\"2022-10-01\",\"2022-09-01\",\"2022-08-01\",\"2022-07-01\",\"2022-06-01\",\"2022-05-01\",\"2022-04-01\",\"2022-03-01\",\"2022-02-01\",\"2022-01-01\",\"2021-12-01\",\"2021-11-01\",\"2021-10-01\",\"2021-09-01\",\"2021-08-01\",\"2021-07-01\",\"2021-06-01\",\"2021-05-01\",\"2021-04-01\",\"2021-03-01\",\"2021-02-01\",\"2021-01-01\",\"2020-12-01\",\"2020-11-01\",\"2020-10-01\",\"2020-09-01\",\"2020-08-01\",\"2020-07-01\",\"2020-06-01\",\"2020-05-01\",\"2020-04-01\",\"2020-03-01\",\"2020-02-01\",\"2020-01-01\",\"2019-12-01\",\"2019-11-01\",\"2019-10-01\",\"2019-09-01\",\"2019-08-01\",\"2019-07-01\",\"2019-06-01\",\"2019-05-01\",\"2019-04-01\",\"2019-03-01\",\"2019-02-01\",\"2019-01-01\",\"2018-12-01\",\"2018-11-01\",\"2018-10-01\",\"2018-09-01\",\"2018-08-01\",\"2018-07-01\",\"2018-06-01\",\"2018-05-01\",\"2018-04-01\",\"2018-03-01\",\"2018-02-01\",\"2018-01-01\",\"2017-12-01\",\"2017-11-01\",\"2017-10-01\",\"2017-09-01\",\"2017-08-01\",\"2017-07-01\",\"2017-06-01\",\"2017-05-01\",\"2017-04-01\",\"2017-03-01\",\"2017-02-01\",\"2017-01-01\",\"2016-12-01\",\"2016-11-01\",\"2016-10-01\",\"2016-09-01\",\"2016-08-01\",\"2016-07-01\",\"2016-06-01\",\"2016-05-01\",\"2016-04-01\",\"2016-03-01\",\"2016-02-01\",\"2016-01-01\",\"2015-12-01\",\"2015-11-01\",\"2015-10-01\",\"2015-09-01\",\"2015-08-01\",\"2015-07-01\",\"2015-06-01\",\"2015-05-01\",\"2015-04-01\",\"2015-03-01\",\"2015-02-01\",\"2015-01-01\",\"2014-12-01\",\"2014-11-01\",\"2014-10-01\",\"2014-09-01\",\"2014-08-01\",\"2014-07-01\",\"2014-06-01\",\"2014-05-01\",\"2014-04-01\",\"2014-03-01\",\"2014-02-01\",\"2014-01-01\",\"2013-12-01\",\"2013-11-01\",\"2013-10-01\",\"2013-09-01\",\"2013-08-01\",\"2013-07-01\",\"2013-06-01\",\"2013-05-01\",\"2013-04-01\",\"2013-03-01\",\"2013-02-01\",\"2013-01-01\",\"2012-12-01\",\"2012-11-01\",\"2012-10-01\",\"2012-09-01\",\"2012-08-01\",\"2012-07-01\",\"2012-06-01\",\"2012-05-01\",\"2012-04-01\",\"2012-03-01\",\"2012-02-01\",\"2012-01-01\",\"2011-12-01\",\"2011-11-01\",\"2011-10-01\",\"2011-09-01\",\"2011-08-01\",\"2011-07-01\",\"2011-06-01\",\"2011-05-01\",\"2011-04-01\",\"2011-03-01\",\"2011-02-01\",\"2011-01-01\",\"2010-12-01\",\"2010-11-01\",\"2010-10-01\",\"2010-09-01\",\"2010-08-01\",\"2010-07-01\",\"2010-06-01\",\"2010-05-01\",\"2010-04-01\",\"2010-03-01\",\"2010-02-01\",\"2010-01-01\",\"2009-12-01\",\"2009-11-01\",\"2009-10-01\",\"2009-09-01\",\"2009-08-01\",\"2009-07-01\",\"2009-06-01\",\"2009-05-01\",\"2009-04-01\",\"2009-03-01\",\"2009-02-01\",\"2009-01-01\",\"2008-12-01\",\"2008-11-01\",\"2008-10-01\",\"2008-09-01\",\"2008-08-01\",\"2008-07-01\",\"2008-06-01\",\"2008-05-01\",\"2008-04-01\",\"2008-03-01\",\"2008-02-01\",\"2008-01-01\",\"2007-12-01\",\"2007-11-01\",\"2007-10-01\",\"2007-09-01\",\"2007-08-01\",\"2007-07-01\",\"2007-06-01\",\"2007-05-01\",\"2007-04-01\",\"2007-03-01\",\"2007-02-01\",\"2007-01-01\",\"2006-12-01\",\"2006-11-01\",\"2006-10-01\",\"2006-09-01\",\"2006-08-01\",\"2006-07-01\",\"2006-06-01\",\"2006-05-01\",\"2006-04-01\",\"2006-03-01\",\"2006-02-01\",\"2006-01-01\",\"2005-12-01\",\"2005-11-01\",\"2005-10-01\",\"2005-09-01\",\"2005-08-01\",\"2005-07-01\",\"2005-06-01\",\"2005-05-01\",\"2005-04-01\",\"2005-03-01\",\"2005-02-01\",\"2005-01-01\",\"2004-12-01\",\"2004-11-01\",\"2004-10-01\",\"2004-09-01\",\"2004-08-01\",\"2004-07-01\",\"2004-06-01\",\"2004-05-01\",\"2004-04-01\",\"2004-03-01\",\"2004-02-01\",\"2004-01-01\",\"2003-12-01\",\"2003-11-01\",\"2003-10-01\",\"2003-09-01\",\"2003-08-01\",\"2003-07-01\",\"2003-06-01\",\"2003-05-01\",\"2003-04-01\",\"2003-03-01\",\"2003-02-01\",\"2003-01-01\",\"2002-12-01\",\"2002-11-01\",\"2002-10-01\",\"2002-09-01\",\"2002-08-01\",\"2002-07-01\",\"2002-06-01\",\"2002-05-01\",\"2002-04-01\",\"2002-03-01\",\"2002-02-01\",\"2002-01-01\",\"2001-12-01\",\"2001-11-01\",\"2001-10-01\",\"2001-09-01\",\"2001-08-01\",\"2001-07-01\",\"2001-06-01\",\"2001-05-01\",\"2001-04-01\",\"2001-03-01\",\"2001-02-01\",\"2001-01-01\",\"2000-12-01\",\"2000-11-01\",\"2000-10-01\",\"2000-09-01\",\"2000-08-01\",\"2000-07-01\",\"2000-06-01\",\"2000-05-01\",\"2000-04-01\",\"2000-03-01\",\"2000-02-01\",\"2000-01-01\",\"1999-12-01\",\"1999-11-01\",\"1999-10-01\",\"1999-09-01\",\"1999-08-01\",\"1999-07-01\",\"1999-06-01\",\"1999-05-01\",\"1999-04-01\",\"1999-03-01\",\"1999-02-01\",\"1999-01-01\",\"1998-12-01\",\"1998-11-01\",\"1998-10-01\",\"1998-09-01\",\"1998-08-01\",\"1998-07-01\",\"1998-06-01\",\"1998-05-01\",\"1998-04-01\",\"1998-03-01\",\"1998-02-01\",\"1998-01-01\",\"1997-12-01\",\"1997-11-01\",\"1997-10-01\",\"1997-09-01\",\"1997-08-01\",\"1997-07-01\",\"1997-06-01\",\"1997-05-01\",\"1997-04-01\",\"1997-03-01\",\"1997-02-01\",\"1997-01-01\",\"1996-12-01\",\"1996-11-01\",\"1996-10-01\",\"1996-09-01\",\"1996-08-01\",\"1996-07-01\",\"1996-06-01\",\"1996-05-01\",\"1996-04-01\",\"1996-03-01\",\"1996-02-01\",\"1996-01-01\",\"1995-12-01\",\"1995-11-01\",\"1995-10-01\",\"1995-09-01\",\"1995-08-01\",\"1995-07-01\",\"1995-06-01\",\"1995-05-01\",\"1995-04-01\",\"1995-03-01\",\"1995-02-01\",\"1995-01-01\",\"1994-12-01\",\"1994-11-01\",\"1994-10-01\",\"1994-09-01\",\"1994-08-01\",\"1994-07-01\",\"1994-06-01\",\"1994-05-01\",\"1994-04-01\",\"1994-03-01\",\"1994-02-01\",\"1994-01-01\",\"1993-12-01\",\"1993-11-01\",\"1993-10-01\",\"1993-09-01\",\"1993-08-01\",\"1993-07-01\",\"1993-06-01\",\"1993-05-01\",\"1993-04-01\",\"1993-03-01\",\"1993-02-01\",\"1993-01-01\",\"1992-12-01\",\"1992-11-01\",\"1992-10-01\",\"1992-09-01\",\"1992-08-01\",\"1992-07-01\",\"1992-06-01\",\"1992-05-01\",\"1992-04-01\",\"1992-03-01\",\"1992-02-01\",\"1992-01-01\",\"1991-12-01\",\"1991-11-01\",\"1991-10-01\",\"1991-09-01\",\"1991-08-01\",\"1991-07-01\",\"1991-06-01\",\"1991-05-01\",\"1991-04-01\",\"1991-03-01\",\"1991-02-01\",\"1991-01-01\",\"1990-12-01\",\"1990-11-01\",\"1990-10-01\",\"1990-09-01\",\"1990-08-01\",\"1990-07-01\",\"1990-06-01\",\"1990-05-01\",\"1990-04-01\",\"1990-03-01\",\"1990-02-01\",\"1990-01-01\",\"1989-12-01\",\"1989-11-01\",\"1989-10-01\",\"1989-09-01\",\"1989-08-01\",\"1989-07-01\",\"1989-06-01\",\"1989-05-01\",\"1989-04-01\",\"1989-03-01\",\"1989-02-01\",\"1989-01-01\",\"1988-12-01\",\"1988-11-01\",\"1988-10-01\",\"1988-09-01\",\"1988-08-01\",\"1988-07-01\",\"1988-06-01\",\"1988-05-01\",\"1988-04-01\",\"1988-03-01\",\"1988-02-01\",\"1988-01-01\",\"1987-12-01\",\"1987-11-01\",\"1987-10-01\",\"1987-09-01\",\"1987-08-01\",\"1987-07-01\",\"1987-06-01\",\"1987-05-01\",\"1987-04-01\",\"1987-03-01\",\"1987-02-01\",\"1987-01-01\",\"1986-12-01\",\"1986-11-01\",\"1986-10-01\",\"1986-09-01\",\"1986-08-01\",\"1986-07-01\",\"1986-06-01\",\"1986-05-01\",\"1986-04-01\",\"1986-03-01\",\"1986-02-01\",\"1986-01-01\",\"1985-12-01\",\"1985-11-01\",\"1985-10-01\",\"1985-09-01\",\"1985-08-01\",\"1985-07-01\",\"1985-06-01\",\"1985-05-01\",\"1985-04-01\",\"1985-03-01\",\"1985-02-01\",\"1985-01-01\",\"1984-12-01\",\"1984-11-01\",\"1984-10-01\",\"1984-09-01\",\"1984-08-01\",\"1984-07-01\",\"1984-06-01\",\"1984-05-01\",\"1984-04-01\",\"1984-03-01\",\"1984-02-01\",\"1984-01-01\",\"1983-12-01\",\"1983-11-01\",\"1983-10-01\",\"1983-09-01\",\"1983-08-01\",\"1983-07-01\",\"1983-06-01\",\"1983-05-01\",\"1983-04-01\",\"1983-03-01\",\"1983-02-01\",\"1983-01-01\",\"1982-12-01\",\"1982-11-01\",\"1982-10-01\",\"1982-09-01\",\"1982-08-01\",\"1982-07-01\",\"1982-06-01\",\"1982-05-01\",\"1982-04-01\",\"1982-03-01\",\"1982-02-01\",\"1982-01-01\",\"1981-12-01\",\"1981-11-01\",\"1981-10-01\",\"1981-09-01\",\"1981-08-01\",\"1981-07-01\",\"1981-06-01\",\"1981-05-01\",\"1981-04-01\",\"1981-03-01\",\"1981-02-01\",\"1981-01-01\",\"1980-12-01\",\"1980-11-01\",\"1980-10-01\",\"1980-09-01\",\"1980-08-01\",\"1980-07-01\",\"1980-06-01\",\"1980-05-01\",\"1980-04-01\",\"1980-03-01\",\"1980-02-01\",\"1980-01-01\",\"1979-12-01\",\"1979-11-01\",\"1979-10-01\",\"1979-09-01\",\"1979-08-01\",\"1979-07-01\",\"1979-06-01\",\"1979-05-01\",\"1979-04-01\",\"1979-03-01\",\"1979-02-01\",\"1979-01-01\",\"1978-12-01\",\"1978-11-01\",\"1978-10-01\",\"1978-09-01\",\"1978-08-01\",\"1978-07-01\",\"1978-06-01\",\"1978-05-01\",\"1978-04-01\",\"1978-03-01\",\"1978-02-01\",\"1978-01-01\",\"1977-12-01\",\"1977-11-01\",\"1977-10-01\",\"1977-09-01\",\"1977-08-01\",\"1977-07-01\",\"1977-06-01\",\"1977-05-01\",\"1977-04-01\",\"1977-03-01\",\"1977-02-01\",\"1977-01-01\",\"1976-12-01\",\"1976-11-01\",\"1976-10-01\",\"1976-09-01\",\"1976-08-01\",\"1976-07-01\",\"1976-06-01\",\"1976-05-01\",\"1976-04-01\",\"1976-03-01\",\"1976-02-01\",\"1976-01-01\",\"1975-12-01\",\"1975-11-01\",\"1975-10-01\",\"1975-09-01\",\"1975-08-01\",\"1975-07-01\",\"1975-06-01\",\"1975-05-01\",\"1975-04-01\",\"1975-03-01\",\"1975-02-01\",\"1975-01-01\",\"1974-12-01\",\"1974-11-01\",\"1974-10-01\",\"1974-09-01\",\"1974-08-01\",\"1974-07-01\",\"1974-06-01\",\"1974-05-01\",\"1974-04-01\",\"1974-03-01\",\"1974-02-01\",\"1974-01-01\",\"1973-12-01\",\"1973-11-01\",\"1973-10-01\",\"1973-09-01\",\"1973-08-01\",\"1973-07-01\",\"1973-06-01\",\"1973-05-01\",\"1973-04-01\",\"1973-03-01\",\"1973-02-01\",\"1973-01-01\",\"1972-12-01\",\"1972-11-01\",\"1972-10-01\",\"1972-09-01\",\"1972-08-01\",\"1972-07-01\",\"1972-06-01\",\"1972-05-01\",\"1972-04-01\",\"1972-03-01\",\"1972-02-01\",\"1972-01-01\",\"1971-12-01\",\"1971-11-01\",\"1971-10-01\",\"1971-09-01\",\"1971-08-01\",\"1971-07-01\",\"1971-06-01\",\"1971-05-01\",\"1971-04-01\",\"1971-03-01\",\"1971-02-01\",\"1971-01-01\",\"1970-12-01\",\"1970-11-01\",\"1970-10-01\",\"1970-09-01\",\"1970-08-01\",\"1970-07-01\",\"1970-06-01\",\"1970-05-01\",\"1970-04-01\",\"1970-03-01\",\"1970-02-01\",\"1970-01-01\",\"1969-12-01\",\"1969-11-01\",\"1969-10-01\",\"1969-09-01\",\"1969-08-01\",\"1969-07-01\",\"1969-06-01\",\"1969-05-01\",\"1969-04-01\",\"1969-03-01\",\"1969-02-01\",\"1969-01-01\",\"1968-12-01\",\"1968-11-01\",\"1968-10-01\",\"1968-09-01\",\"1968-08-01\",\"1968-07-01\",\"1968-06-01\",\"1968-05-01\",\"1968-04-01\",\"1968-03-01\",\"1968-02-01\",\"1968-01-01\",\"1967-12-01\",\"1967-11-01\",\"1967-10-01\",\"1967-09-01\",\"1967-08-01\",\"1967-07-01\",\"1967-06-01\",\"1967-05-01\",\"1967-04-01\",\"1967-03-01\",\"1967-02-01\",\"1967-01-01\",\"1966-12-01\",\"1966-11-01\",\"1966-10-01\",\"1966-09-01\",\"1966-08-01\",\"1966-07-01\",\"1966-06-01\",\"1966-05-01\",\"1966-04-01\",\"1966-03-01\",\"1966-02-01\",\"1966-01-01\",\"1965-12-01\",\"1965-11-01\",\"1965-10-01\",\"1965-09-01\",\"1965-08-01\",\"1965-07-01\",\"1965-06-01\",\"1965-05-01\",\"1965-04-01\",\"1965-03-01\",\"1965-02-01\",\"1965-01-01\",\"1964-12-01\",\"1964-11-01\",\"1964-10-01\",\"1964-09-01\",\"1964-08-01\",\"1964-07-01\",\"1964-06-01\",\"1964-05-01\",\"1964-04-01\",\"1964-03-01\",\"1964-02-01\",\"1964-01-01\",\"1963-12-01\",\"1963-11-01\",\"1963-10-01\",\"1963-09-01\",\"1963-08-01\",\"1963-07-01\",\"1963-06-01\",\"1963-05-01\",\"1963-04-01\",\"1963-03-01\",\"1963-02-01\",\"1963-01-01\",\"1962-12-01\",\"1962-11-01\",\"1962-10-01\",\"1962-09-01\",\"1962-08-01\",\"1962-07-01\",\"1962-06-01\",\"1962-05-01\",\"1962-04-01\",\"1962-03-01\",\"1962-02-01\",\"1962-01-01\",\"1961-12-01\",\"1961-11-01\",\"1961-10-01\",\"1961-09-01\",\"1961-08-01\",\"1961-07-01\",\"1961-06-01\",\"1961-05-01\",\"1961-04-01\",\"1961-03-01\",\"1961-02-01\",\"1961-01-01\",\"1960-12-01\",\"1960-11-01\",\"1960-10-01\",\"1960-09-01\",\"1960-08-01\",\"1960-07-01\",\"1960-06-01\",\"1960-05-01\",\"1960-04-01\",\"1960-03-01\",\"1960-02-01\",\"1960-01-01\",\"1959-12-01\",\"1959-11-01\",\"1959-10-01\",\"1959-09-01\",\"1959-08-01\",\"1959-07-01\",\"1959-06-01\",\"1959-05-01\",\"1959-04-01\",\"1959-03-01\",\"1959-02-01\",\"1959-01-01\",\"1958-12-01\",\"1958-11-01\",\"1958-10-01\",\"1958-09-01\",\"1958-08-01\",\"1958-07-01\",\"1958-06-01\",\"1958-05-01\",\"1958-04-01\",\"1958-03-01\",\"1958-02-01\",\"1958-01-01\",\"1957-12-01\",\"1957-11-01\",\"1957-10-01\",\"1957-09-01\",\"1957-08-01\",\"1957-07-01\",\"1957-06-01\",\"1957-05-01\",\"1957-04-01\",\"1957-03-01\",\"1957-02-01\",\"1957-01-01\",\"1956-12-01\",\"1956-11-01\",\"1956-10-01\",\"1956-09-01\",\"1956-08-01\",\"1956-07-01\",\"1956-06-01\",\"1956-05-01\",\"1956-04-01\",\"1956-03-01\",\"1956-02-01\",\"1956-01-01\",\"1955-12-01\",\"1955-11-01\",\"1955-10-01\",\"1955-09-01\",\"1955-08-01\",\"1955-07-01\",\"1955-06-01\",\"1955-05-01\",\"1955-04-01\",\"1955-03-01\",\"1955-02-01\",\"1955-01-01\",\"1954-12-01\",\"1954-11-01\",\"1954-10-01\",\"1954-09-01\",\"1954-08-01\",\"1954-07-01\",\"1954-06-01\",\"1954-05-01\",\"1954-04-01\",\"1954-03-01\",\"1954-02-01\",\"1954-01-01\",\"1953-12-01\",\"1953-11-01\",\"1953-10-01\",\"1953-09-01\",\"1953-08-01\",\"1953-07-01\",\"1953-06-01\",\"1953-05-01\",\"1953-04-01\",\"1953-03-01\",\"1953-02-01\",\"1953-01-01\",\"1952-12-01\",\"1952-11-01\",\"1952-10-01\",\"1952-09-01\",\"1952-08-01\",\"1952-07-01\",\"1952-06-01\",\"1952-05-01\",\"1952-04-01\",\"1952-03-01\",\"1952-02-01\",\"1952-01-01\",\"1951-12-01\",\"1951-11-01\",\"1951-10-01\",\"1951-09-01\",\"1951-08-01\",\"1951-07-01\",\"1951-06-01\",\"1951-05-01\",\"1951-04-01\",\"1951-03-01\",\"1951-02-01\",\"1951-01-01\",\"1950-12-01\",\"1950-11-01\",\"1950-10-01\",\"1950-09-01\",\"1950-08-01\",\"1950-07-01\",\"1950-06-01\",\"1950-05-01\",\"1950-04-01\",\"1950-03-01\",\"1950-02-01\",\"1950-01-01\",\"1949-12-01\",\"1949-11-01\",\"1949-10-01\",\"1949-09-01\",\"1949-08-01\",\"1949-07-01\",\"1949-06-01\",\"1949-05-01\",\"1949-04-01\",\"1949-03-01\",\"1949-02-01\",\"1949-01-01\",\"1948-12-01\",\"1948-11-01\",\"1948-10-01\",\"1948-09-01\",\"1948-08-01\",\"1948-07-01\",\"1948-06-01\",\"1948-05-01\",\"1948-04-01\",\"1948-03-01\",\"1948-02-01\",\"1948-01-01\"],\"xaxis\":\"x\",\"y\":[3.7,3.7,3.5,3.7,3.5,3.6,3.6,3.6,3.6,3.8,4.0,3.9,4.2,4.6,4.7,5.2,5.4,5.9,5.8,6.0,6.0,6.2,6.4,6.7,6.7,6.9,7.9,8.4,10.2,11.0,13.2,14.7,4.4,3.5,3.5,3.6,3.6,3.6,3.5,3.7,3.7,3.6,3.6,3.6,3.8,3.8,4.0,3.9,3.8,3.8,3.7,3.8,3.8,4.0,3.8,4.0,4.0,4.1,4.0,4.1,4.2,4.2,4.3,4.4,4.3,4.3,4.4,4.4,4.4,4.6,4.7,4.7,4.7,4.9,5.0,4.9,4.8,4.9,4.8,5.1,5.0,4.9,4.8,5.0,5.1,5.0,5.0,5.1,5.2,5.3,5.6,5.4,5.4,5.5,5.7,5.6,5.8,5.7,5.9,6.1,6.2,6.1,6.3,6.2,6.7,6.7,6.6,6.7,6.9,7.2,7.2,7.2,7.3,7.5,7.5,7.6,7.5,7.7,8.0,7.9,7.7,7.8,7.8,8.1,8.2,8.2,8.2,8.2,8.2,8.3,8.3,8.5,8.6,8.8,9.0,9.0,9.0,9.1,9.0,9.1,9.0,9.0,9.1,9.3,9.8,9.4,9.5,9.5,9.4,9.4,9.6,9.9,9.9,9.8,9.8,9.9,9.9,10.0,9.8,9.6,9.5,9.5,9.4,9.0,8.7,8.3,7.8,7.3,6.8,6.5,6.1,6.1,5.8,5.6,5.4,5.0,5.1,4.9,5.0,5.0,4.7,4.7,4.7,4.6,4.7,4.6,4.4,4.5,4.4,4.5,4.6,4.4,4.5,4.4,4.5,4.7,4.7,4.6,4.6,4.7,4.7,4.8,4.7,4.9,5.0,5.0,5.0,4.9,5.0,5.0,5.1,5.2,5.2,5.4,5.3,5.4,5.4,5.5,5.4,5.4,5.5,5.6,5.6,5.6,5.8,5.6,5.7,5.7,5.8,6.0,6.1,6.1,6.2,6.3,6.1,6.0,5.9,5.9,5.8,6.0,5.9,5.7,5.7,5.7,5.8,5.8,5.8,5.9,5.7,5.7,5.7,5.7,5.5,5.3,5.0,4.9,4.6,4.5,4.3,4.4,4.3,4.2,4.2,3.9,3.9,3.9,3.9,4.1,4.0,4.0,4.0,3.8,4.0,4.1,4.0,4.0,4.1,4.1,4.2,4.2,4.3,4.3,4.2,4.3,4.2,4.4,4.3,4.4,4.4,4.5,4.6,4.5,4.5,4.5,4.4,4.3,4.7,4.6,4.6,4.7,4.6,4.7,4.9,4.8,4.9,5.0,4.9,5.1,5.2,5.2,5.3,5.4,5.4,5.2,5.2,5.1,5.5,5.3,5.6,5.6,5.5,5.5,5.6,5.6,5.6,5.5,5.6,5.7,5.7,5.6,5.6,5.8,5.4,5.4,5.6,5.5,5.6,5.8,5.9,6.0,6.1,6.1,6.1,6.4,6.5,6.6,6.6,6.5,6.6,6.8,6.7,6.8,6.9,7.0,7.1,7.1,7.0,7.1,7.3,7.4,7.4,7.3,7.6,7.6,7.7,7.8,7.6,7.4,7.4,7.4,7.3,7.3,7.0,7.0,6.9,6.9,6.8,6.9,6.9,6.7,6.8,6.6,6.4,6.3,6.2,5.9,5.9,5.7,5.5,5.2,5.4,5.4,5.2,5.3,5.4,5.4,5.4,5.3,5.3,5.2,5.2,5.3,5.2,5.2,5.0,5.2,5.4,5.3,5.3,5.4,5.4,5.6,5.4,5.4,5.6,5.4,5.7,5.7,5.7,5.7,5.8,6.0,5.9,6.0,6.1,6.2,6.3,6.3,6.6,6.6,6.6,6.6,6.9,7.0,7.0,6.9,7.0,7.2,7.2,7.1,7.2,7.2,6.7,7.0,7.0,7.1,7.1,7.1,7.4,7.4,7.2,7.3,7.2,7.2,7.3,7.3,7.2,7.4,7.3,7.5,7.5,7.2,7.4,7.7,7.8,7.8,8.0,8.3,8.5,8.8,9.2,9.5,9.4,10.1,10.1,10.2,10.3,10.4,10.4,10.8,10.8,10.4,10.1,9.8,9.8,9.6,9.4,9.3,9.0,8.9,8.6,8.5,8.3,7.9,7.6,7.4,7.2,7.5,7.5,7.2,7.4,7.4,7.5,7.2,7.5,7.5,7.5,7.7,7.8,7.6,7.5,6.9,6.3,6.3,6.3,6.0,5.9,6.0,5.9,6.0,5.7,5.7,5.6,5.8,5.8,5.9,5.9,6.0,5.9,5.8,6.0,5.9,6.2,5.9,6.0,6.1,6.3,6.3,6.4,6.4,6.8,6.8,6.8,7.0,6.9,7.2,7.0,7.2,7.4,7.6,7.5,7.8,7.8,7.7,7.6,7.8,7.8,7.6,7.4,7.7,7.6,7.7,7.9,8.2,8.3,8.4,8.4,8.4,8.6,8.8,9.0,8.8,8.6,8.1,8.1,7.2,6.6,6.0,5.9,5.5,5.5,5.4,5.1,5.1,5.1,5.2,5.1,4.9,4.8,4.6,4.8,4.8,4.8,4.9,4.9,5.0,4.9,5.0,4.9,5.2,5.3,5.6,5.5,5.6,5.6,5.7,5.7,5.7,5.8,5.7,5.8,6.0,6.0,5.8,6.0,6.1,6.0,5.9,5.9,5.9,6.0,5.9,5.9,6.1,5.9,5.5,5.4,5.1,5.0,4.9,4.8,4.6,4.4,4.2,3.9,3.5,3.5,3.7,3.7,3.5,3.5,3.5,3.4,3.4,3.4,3.4,3.4,3.4,3.4,3.4,3.4,3.5,3.7,3.7,3.5,3.5,3.7,3.8,3.7,3.8,3.9,4.0,3.8,3.8,3.8,3.9,3.8,3.8,3.8,3.8,3.9,3.8,3.6,3.7,3.7,3.8,3.8,3.8,3.9,3.8,3.8,3.8,4.0,4.0,4.1,4.2,4.3,4.4,4.4,4.6,4.6,4.8,4.7,5.1,4.9,5.0,4.8,5.1,5.1,5.0,4.9,5.2,5.1,5.3,5.4,5.4,5.6,5.5,5.7,5.5,5.5,5.4,5.6,5.6,5.9,5.7,5.7,5.9,5.7,5.5,5.7,5.4,5.6,5.7,5.4,5.5,5.5,5.6,5.6,5.5,5.8,6.0,6.1,6.5,6.7,6.6,7.0,6.9,7.1,7.0,6.9,6.9,6.6,6.6,6.1,6.1,5.5,5.6,5.5,5.4,5.1,5.2,5.4,4.8,5.2,5.3,5.8,5.7,5.5,5.2,5.1,5.0,5.1,5.2,5.6,5.9,6.0,6.2,6.2,6.7,7.1,7.4,7.5,7.3,7.4,7.4,6.7,6.4,5.8,5.2,5.1,4.5,4.4,4.1,4.2,4.3,4.1,3.9,3.7,3.9,4.2,4.2,4.3,3.9,3.9,4.1,4.4,4.3,4.3,4.0,4.2,3.9,4.0,4.2,4.2,4.3,4.1,4.2,4.0,4.2,4.3,4.7,4.6,4.7,4.9,5.0,5.3,5.7,6.1,6.0,5.8,5.6,5.9,5.9,5.7,5.2,4.9,4.5,3.5,3.1,2.9,2.7,2.6,2.5,2.5,2.7,2.6,2.6,2.9,2.7,2.8,3.0,3.1,3.4,3.2,3.0,3.0,2.9,2.9,3.1,3.2,3.1,3.5,3.5,3.3,3.1,3.1,3.2,3.0,3.1,3.4,3.4,3.7,4.3,4.2,4.2,4.4,4.5,5.0,5.4,5.5,5.8,6.3,6.4,6.5,6.6,6.4,7.9,6.6,6.8,6.7,6.2,6.1,5.3,5.0,4.7,4.3,4.0,3.8,3.7,3.8,3.9,3.6,3.6,3.5,3.9,4.0,3.8,3.4],\"yaxis\":\"y\",\"type\":\"scatter\"}],                        {\"template\":{\"data\":{\"bar\":[{\"error_x\":{\"color\":\"#2a3f5f\"},\"error_y\":{\"color\":\"#2a3f5f\"},\"marker\":{\"line\":{\"color\":\"#E5ECF6\",\"width\":0.5},\"pattern\":{\"fillmode\":\"overlay\",\"size\":10,\"solidity\":0.2}},\"type\":\"bar\"}],\"barpolar\":[{\"marker\":{\"line\":{\"color\":\"#E5ECF6\",\"width\":0.5},\"pattern\":{\"fillmode\":\"overlay\",\"size\":10,\"solidity\":0.2}},\"type\":\"barpolar\"}],\"carpet\":[{\"aaxis\":{\"endlinecolor\":\"#2a3f5f\",\"gridcolor\":\"white\",\"linecolor\":\"white\",\"minorgridcolor\":\"white\",\"startlinecolor\":\"#2a3f5f\"},\"baxis\":{\"endlinecolor\":\"#2a3f5f\",\"gridcolor\":\"white\",\"linecolor\":\"white\",\"minorgridcolor\":\"white\",\"startlinecolor\":\"#2a3f5f\"},\"type\":\"carpet\"}],\"choropleth\":[{\"colorbar\":{\"outlinewidth\":0,\"ticks\":\"\"},\"type\":\"choropleth\"}],\"contour\":[{\"colorbar\":{\"outlinewidth\":0,\"ticks\":\"\"},\"colorscale\":[[0.0,\"#0d0887\"],[0.1111111111111111,\"#46039f\"],[0.2222222222222222,\"#7201a8\"],[0.3333333333333333,\"#9c179e\"],[0.4444444444444444,\"#bd3786\"],[0.5555555555555556,\"#d8576b\"],[0.6666666666666666,\"#ed7953\"],[0.7777777777777778,\"#fb9f3a\"],[0.8888888888888888,\"#fdca26\"],[1.0,\"#f0f921\"]],\"type\":\"contour\"}],\"contourcarpet\":[{\"colorbar\":{\"outlinewidth\":0,\"ticks\":\"\"},\"type\":\"contourcarpet\"}],\"heatmap\":[{\"colorbar\":{\"outlinewidth\":0,\"ticks\":\"\"},\"colorscale\":[[0.0,\"#0d0887\"],[0.1111111111111111,\"#46039f\"],[0.2222222222222222,\"#7201a8\"],[0.3333333333333333,\"#9c179e\"],[0.4444444444444444,\"#bd3786\"],[0.5555555555555556,\"#d8576b\"],[0.6666666666666666,\"#ed7953\"],[0.7777777777777778,\"#fb9f3a\"],[0.8888888888888888,\"#fdca26\"],[1.0,\"#f0f921\"]],\"type\":\"heatmap\"}],\"heatmapgl\":[{\"colorbar\":{\"outlinewidth\":0,\"ticks\":\"\"},\"colorscale\":[[0.0,\"#0d0887\"],[0.1111111111111111,\"#46039f\"],[0.2222222222222222,\"#7201a8\"],[0.3333333333333333,\"#9c179e\"],[0.4444444444444444,\"#bd3786\"],[0.5555555555555556,\"#d8576b\"],[0.6666666666666666,\"#ed7953\"],[0.7777777777777778,\"#fb9f3a\"],[0.8888888888888888,\"#fdca26\"],[1.0,\"#f0f921\"]],\"type\":\"heatmapgl\"}],\"histogram\":[{\"marker\":{\"pattern\":{\"fillmode\":\"overlay\",\"size\":10,\"solidity\":0.2}},\"type\":\"histogram\"}],\"histogram2d\":[{\"colorbar\":{\"outlinewidth\":0,\"ticks\":\"\"},\"colorscale\":[[0.0,\"#0d0887\"],[0.1111111111111111,\"#46039f\"],[0.2222222222222222,\"#7201a8\"],[0.3333333333333333,\"#9c179e\"],[0.4444444444444444,\"#bd3786\"],[0.5555555555555556,\"#d8576b\"],[0.6666666666666666,\"#ed7953\"],[0.7777777777777778,\"#fb9f3a\"],[0.8888888888888888,\"#fdca26\"],[1.0,\"#f0f921\"]],\"type\":\"histogram2d\"}],\"histogram2dcontour\":[{\"colorbar\":{\"outlinewidth\":0,\"ticks\":\"\"},\"colorscale\":[[0.0,\"#0d0887\"],[0.1111111111111111,\"#46039f\"],[0.2222222222222222,\"#7201a8\"],[0.3333333333333333,\"#9c179e\"],[0.4444444444444444,\"#bd3786\"],[0.5555555555555556,\"#d8576b\"],[0.6666666666666666,\"#ed7953\"],[0.7777777777777778,\"#fb9f3a\"],[0.8888888888888888,\"#fdca26\"],[1.0,\"#f0f921\"]],\"type\":\"histogram2dcontour\"}],\"mesh3d\":[{\"colorbar\":{\"outlinewidth\":0,\"ticks\":\"\"},\"type\":\"mesh3d\"}],\"parcoords\":[{\"line\":{\"colorbar\":{\"outlinewidth\":0,\"ticks\":\"\"}},\"type\":\"parcoords\"}],\"pie\":[{\"automargin\":true,\"type\":\"pie\"}],\"scatter\":[{\"marker\":{\"colorbar\":{\"outlinewidth\":0,\"ticks\":\"\"}},\"type\":\"scatter\"}],\"scatter3d\":[{\"line\":{\"colorbar\":{\"outlinewidth\":0,\"ticks\":\"\"}},\"marker\":{\"colorbar\":{\"outlinewidth\":0,\"ticks\":\"\"}},\"type\":\"scatter3d\"}],\"scattercarpet\":[{\"marker\":{\"colorbar\":{\"outlinewidth\":0,\"ticks\":\"\"}},\"type\":\"scattercarpet\"}],\"scattergeo\":[{\"marker\":{\"colorbar\":{\"outlinewidth\":0,\"ticks\":\"\"}},\"type\":\"scattergeo\"}],\"scattergl\":[{\"marker\":{\"colorbar\":{\"outlinewidth\":0,\"ticks\":\"\"}},\"type\":\"scattergl\"}],\"scattermapbox\":[{\"marker\":{\"colorbar\":{\"outlinewidth\":0,\"ticks\":\"\"}},\"type\":\"scattermapbox\"}],\"scatterpolar\":[{\"marker\":{\"colorbar\":{\"outlinewidth\":0,\"ticks\":\"\"}},\"type\":\"scatterpolar\"}],\"scatterpolargl\":[{\"marker\":{\"colorbar\":{\"outlinewidth\":0,\"ticks\":\"\"}},\"type\":\"scatterpolargl\"}],\"scatterternary\":[{\"marker\":{\"colorbar\":{\"outlinewidth\":0,\"ticks\":\"\"}},\"type\":\"scatterternary\"}],\"surface\":[{\"colorbar\":{\"outlinewidth\":0,\"ticks\":\"\"},\"colorscale\":[[0.0,\"#0d0887\"],[0.1111111111111111,\"#46039f\"],[0.2222222222222222,\"#7201a8\"],[0.3333333333333333,\"#9c179e\"],[0.4444444444444444,\"#bd3786\"],[0.5555555555555556,\"#d8576b\"],[0.6666666666666666,\"#ed7953\"],[0.7777777777777778,\"#fb9f3a\"],[0.8888888888888888,\"#fdca26\"],[1.0,\"#f0f921\"]],\"type\":\"surface\"}],\"table\":[{\"cells\":{\"fill\":{\"color\":\"#EBF0F8\"},\"line\":{\"color\":\"white\"}},\"header\":{\"fill\":{\"color\":\"#C8D4E3\"},\"line\":{\"color\":\"white\"}},\"type\":\"table\"}]},\"layout\":{\"annotationdefaults\":{\"arrowcolor\":\"#2a3f5f\",\"arrowhead\":0,\"arrowwidth\":1},\"autotypenumbers\":\"strict\",\"coloraxis\":{\"colorbar\":{\"outlinewidth\":0,\"ticks\":\"\"}},\"colorscale\":{\"diverging\":[[0,\"#8e0152\"],[0.1,\"#c51b7d\"],[0.2,\"#de77ae\"],[0.3,\"#f1b6da\"],[0.4,\"#fde0ef\"],[0.5,\"#f7f7f7\"],[0.6,\"#e6f5d0\"],[0.7,\"#b8e186\"],[0.8,\"#7fbc41\"],[0.9,\"#4d9221\"],[1,\"#276419\"]],\"sequential\":[[0.0,\"#0d0887\"],[0.1111111111111111,\"#46039f\"],[0.2222222222222222,\"#7201a8\"],[0.3333333333333333,\"#9c179e\"],[0.4444444444444444,\"#bd3786\"],[0.5555555555555556,\"#d8576b\"],[0.6666666666666666,\"#ed7953\"],[0.7777777777777778,\"#fb9f3a\"],[0.8888888888888888,\"#fdca26\"],[1.0,\"#f0f921\"]],\"sequentialminus\":[[0.0,\"#0d0887\"],[0.1111111111111111,\"#46039f\"],[0.2222222222222222,\"#7201a8\"],[0.3333333333333333,\"#9c179e\"],[0.4444444444444444,\"#bd3786\"],[0.5555555555555556,\"#d8576b\"],[0.6666666666666666,\"#ed7953\"],[0.7777777777777778,\"#fb9f3a\"],[0.8888888888888888,\"#fdca26\"],[1.0,\"#f0f921\"]]},\"colorway\":[\"#636efa\",\"#EF553B\",\"#00cc96\",\"#ab63fa\",\"#FFA15A\",\"#19d3f3\",\"#FF6692\",\"#B6E880\",\"#FF97FF\",\"#FECB52\"],\"font\":{\"color\":\"#2a3f5f\"},\"geo\":{\"bgcolor\":\"white\",\"lakecolor\":\"white\",\"landcolor\":\"#E5ECF6\",\"showlakes\":true,\"showland\":true,\"subunitcolor\":\"white\"},\"hoverlabel\":{\"align\":\"left\"},\"hovermode\":\"closest\",\"mapbox\":{\"style\":\"light\"},\"paper_bgcolor\":\"white\",\"plot_bgcolor\":\"#E5ECF6\",\"polar\":{\"angularaxis\":{\"gridcolor\":\"white\",\"linecolor\":\"white\",\"ticks\":\"\"},\"bgcolor\":\"#E5ECF6\",\"radialaxis\":{\"gridcolor\":\"white\",\"linecolor\":\"white\",\"ticks\":\"\"}},\"scene\":{\"xaxis\":{\"backgroundcolor\":\"#E5ECF6\",\"gridcolor\":\"white\",\"gridwidth\":2,\"linecolor\":\"white\",\"showbackground\":true,\"ticks\":\"\",\"zerolinecolor\":\"white\"},\"yaxis\":{\"backgroundcolor\":\"#E5ECF6\",\"gridcolor\":\"white\",\"gridwidth\":2,\"linecolor\":\"white\",\"showbackground\":true,\"ticks\":\"\",\"zerolinecolor\":\"white\"},\"zaxis\":{\"backgroundcolor\":\"#E5ECF6\",\"gridcolor\":\"white\",\"gridwidth\":2,\"linecolor\":\"white\",\"showbackground\":true,\"ticks\":\"\",\"zerolinecolor\":\"white\"}},\"shapedefaults\":{\"line\":{\"color\":\"#2a3f5f\"}},\"ternary\":{\"aaxis\":{\"gridcolor\":\"white\",\"linecolor\":\"white\",\"ticks\":\"\"},\"baxis\":{\"gridcolor\":\"white\",\"linecolor\":\"white\",\"ticks\":\"\"},\"bgcolor\":\"#E5ECF6\",\"caxis\":{\"gridcolor\":\"white\",\"linecolor\":\"white\",\"ticks\":\"\"}},\"title\":{\"x\":0.05},\"xaxis\":{\"automargin\":true,\"gridcolor\":\"white\",\"linecolor\":\"white\",\"ticks\":\"\",\"title\":{\"standoff\":15},\"zerolinecolor\":\"white\",\"zerolinewidth\":2},\"yaxis\":{\"automargin\":true,\"gridcolor\":\"white\",\"linecolor\":\"white\",\"ticks\":\"\",\"title\":{\"standoff\":15},\"zerolinecolor\":\"white\",\"zerolinewidth\":2}}},\"xaxis\":{\"anchor\":\"y\",\"domain\":[0.0,1.0],\"title\":{\"text\":\"Month\"}},\"yaxis\":{\"anchor\":\"x\",\"domain\":[0.0,1.0],\"title\":{\"text\":\"Unemployment Rate\"}},\"legend\":{\"tracegroupgap\":0},\"title\":{\"text\":\"United States Unemployment Rate over time\"}},                        {\"responsive\": true}                    ).then(function(){\n",
              "                            \n",
              "var gd = document.getElementById('cfeace64-b12b-4c89-af64-8b957ab719ed');\n",
              "var x = new MutationObserver(function (mutations, observer) {{\n",
              "        var display = window.getComputedStyle(gd).display;\n",
              "        if (!display || display === 'none') {{\n",
              "            console.log([gd, 'removed!']);\n",
              "            Plotly.purge(gd);\n",
              "            observer.disconnect();\n",
              "        }}\n",
              "}});\n",
              "\n",
              "// Listen for the removal of the full notebook cells\n",
              "var notebookContainer = gd.closest('#notebook-container');\n",
              "if (notebookContainer) {{\n",
              "    x.observe(notebookContainer, {childList: true});\n",
              "}}\n",
              "\n",
              "// Listen for the clearing of the current output cell\n",
              "var outputEl = gd.closest('.output');\n",
              "if (outputEl) {{\n",
              "    x.observe(outputEl, {childList: true});\n",
              "}}\n",
              "\n",
              "                        })                };                            </script>        </div>\n",
              "</body>\n",
              "</html>"
            ]
          },
          "metadata": {}
        }
      ]
    },
    {
      "cell_type": "markdown",
      "source": [
        "### Challenge 7 (Unemployment CSV)"
      ],
      "metadata": {
        "id": "WxmDs-5cfF-t"
      }
    },
    {
      "cell_type": "markdown",
      "source": [
        "\n",
        "A)  What is the most recent unemployment rate? And the corresponding date? Display the unemployment rate using a percent sign.\n",
        "\n",
        "> NOTE: assume the most recent data is first (i.e. no need to sort, although it may be helpful / safe to do so)\n",
        "\n",
        "> HINT: use a format string or string concat to help with the percent sign display \n",
        "\n",
        "\n",
        "B) What is the average unemployment rate for all months during this calendar year? How many months are included?\n",
        "\n",
        "> HINT: use a filtering operation to get only the datapoints we care about. You could maybe use substring inclusion in your filter condition.\n",
        "\n",
        "> HINT: you might need to convert the string values to float datatype\n",
        "\n",
        "\n",
        "> HINT: try a [pandas substring operation](https://stackoverflow.com/questions/11350770/filter-pandas-dataframe-by-substring-criteria\n",
        ")\n",
        "\n",
        "C) Plot a line chart of unemployment rates over time.\n",
        "\n",
        "> HINT: use the `matplotlib` or `plotly` package\n",
        "\n",
        "> HINT: you might need to convert the string values to float datatype\n"
      ],
      "metadata": {
        "id": "Q5zVN77ffei9"
      }
    },
    {
      "cell_type": "code",
      "source": [
        "from pandas import read_csv\n",
        "\n",
        "request_url = f\"https://www.alphavantage.co/query?function=UNEMPLOYMENT&apikey={API_KEY}&datatype=csv\"\n",
        "\n",
        "df = read_csv(request_url)\n",
        "\n",
        "df.head()"
      ],
      "metadata": {
        "colab": {
          "base_uri": "https://localhost:8080/"
        },
        "id": "RdGytnkleyPv",
        "outputId": "9fe19631-8e8d-4b5c-9123-e95b0290a605"
      },
      "execution_count": null,
      "outputs": [
        {
          "output_type": "execute_result",
          "data": {
            "text/plain": [
              "    timestamp  value\n",
              "0  2022-11-01    3.7\n",
              "1  2022-10-01    3.7\n",
              "2  2022-09-01    3.5\n",
              "3  2022-08-01    3.7\n",
              "4  2022-07-01    3.5"
            ],
            "text/html": [
              "\n",
              "  <div id=\"df-06fa03bf-d495-41e0-be6e-941b97ab7db9\">\n",
              "    <div class=\"colab-df-container\">\n",
              "      <div>\n",
              "<style scoped>\n",
              "    .dataframe tbody tr th:only-of-type {\n",
              "        vertical-align: middle;\n",
              "    }\n",
              "\n",
              "    .dataframe tbody tr th {\n",
              "        vertical-align: top;\n",
              "    }\n",
              "\n",
              "    .dataframe thead th {\n",
              "        text-align: right;\n",
              "    }\n",
              "</style>\n",
              "<table border=\"1\" class=\"dataframe\">\n",
              "  <thead>\n",
              "    <tr style=\"text-align: right;\">\n",
              "      <th></th>\n",
              "      <th>timestamp</th>\n",
              "      <th>value</th>\n",
              "    </tr>\n",
              "  </thead>\n",
              "  <tbody>\n",
              "    <tr>\n",
              "      <th>0</th>\n",
              "      <td>2022-11-01</td>\n",
              "      <td>3.7</td>\n",
              "    </tr>\n",
              "    <tr>\n",
              "      <th>1</th>\n",
              "      <td>2022-10-01</td>\n",
              "      <td>3.7</td>\n",
              "    </tr>\n",
              "    <tr>\n",
              "      <th>2</th>\n",
              "      <td>2022-09-01</td>\n",
              "      <td>3.5</td>\n",
              "    </tr>\n",
              "    <tr>\n",
              "      <th>3</th>\n",
              "      <td>2022-08-01</td>\n",
              "      <td>3.7</td>\n",
              "    </tr>\n",
              "    <tr>\n",
              "      <th>4</th>\n",
              "      <td>2022-07-01</td>\n",
              "      <td>3.5</td>\n",
              "    </tr>\n",
              "  </tbody>\n",
              "</table>\n",
              "</div>\n",
              "      <button class=\"colab-df-convert\" onclick=\"convertToInteractive('df-06fa03bf-d495-41e0-be6e-941b97ab7db9')\"\n",
              "              title=\"Convert this dataframe to an interactive table.\"\n",
              "              style=\"display:none;\">\n",
              "        \n",
              "  <svg xmlns=\"http://www.w3.org/2000/svg\" height=\"24px\"viewBox=\"0 0 24 24\"\n",
              "       width=\"24px\">\n",
              "    <path d=\"M0 0h24v24H0V0z\" fill=\"none\"/>\n",
              "    <path d=\"M18.56 5.44l.94 2.06.94-2.06 2.06-.94-2.06-.94-.94-2.06-.94 2.06-2.06.94zm-11 1L8.5 8.5l.94-2.06 2.06-.94-2.06-.94L8.5 2.5l-.94 2.06-2.06.94zm10 10l.94 2.06.94-2.06 2.06-.94-2.06-.94-.94-2.06-.94 2.06-2.06.94z\"/><path d=\"M17.41 7.96l-1.37-1.37c-.4-.4-.92-.59-1.43-.59-.52 0-1.04.2-1.43.59L10.3 9.45l-7.72 7.72c-.78.78-.78 2.05 0 2.83L4 21.41c.39.39.9.59 1.41.59.51 0 1.02-.2 1.41-.59l7.78-7.78 2.81-2.81c.8-.78.8-2.07 0-2.86zM5.41 20L4 18.59l7.72-7.72 1.47 1.35L5.41 20z\"/>\n",
              "  </svg>\n",
              "      </button>\n",
              "      \n",
              "  <style>\n",
              "    .colab-df-container {\n",
              "      display:flex;\n",
              "      flex-wrap:wrap;\n",
              "      gap: 12px;\n",
              "    }\n",
              "\n",
              "    .colab-df-convert {\n",
              "      background-color: #E8F0FE;\n",
              "      border: none;\n",
              "      border-radius: 50%;\n",
              "      cursor: pointer;\n",
              "      display: none;\n",
              "      fill: #1967D2;\n",
              "      height: 32px;\n",
              "      padding: 0 0 0 0;\n",
              "      width: 32px;\n",
              "    }\n",
              "\n",
              "    .colab-df-convert:hover {\n",
              "      background-color: #E2EBFA;\n",
              "      box-shadow: 0px 1px 2px rgba(60, 64, 67, 0.3), 0px 1px 3px 1px rgba(60, 64, 67, 0.15);\n",
              "      fill: #174EA6;\n",
              "    }\n",
              "\n",
              "    [theme=dark] .colab-df-convert {\n",
              "      background-color: #3B4455;\n",
              "      fill: #D2E3FC;\n",
              "    }\n",
              "\n",
              "    [theme=dark] .colab-df-convert:hover {\n",
              "      background-color: #434B5C;\n",
              "      box-shadow: 0px 1px 3px 1px rgba(0, 0, 0, 0.15);\n",
              "      filter: drop-shadow(0px 1px 2px rgba(0, 0, 0, 0.3));\n",
              "      fill: #FFFFFF;\n",
              "    }\n",
              "  </style>\n",
              "\n",
              "      <script>\n",
              "        const buttonEl =\n",
              "          document.querySelector('#df-06fa03bf-d495-41e0-be6e-941b97ab7db9 button.colab-df-convert');\n",
              "        buttonEl.style.display =\n",
              "          google.colab.kernel.accessAllowed ? 'block' : 'none';\n",
              "\n",
              "        async function convertToInteractive(key) {\n",
              "          const element = document.querySelector('#df-06fa03bf-d495-41e0-be6e-941b97ab7db9');\n",
              "          const dataTable =\n",
              "            await google.colab.kernel.invokeFunction('convertToInteractive',\n",
              "                                                     [key], {});\n",
              "          if (!dataTable) return;\n",
              "\n",
              "          const docLinkHtml = 'Like what you see? Visit the ' +\n",
              "            '<a target=\"_blank\" href=https://colab.research.google.com/notebooks/data_table.ipynb>data table notebook</a>'\n",
              "            + ' to learn more about interactive tables.';\n",
              "          element.innerHTML = '';\n",
              "          dataTable['output_type'] = 'display_data';\n",
              "          await google.colab.output.renderOutput(dataTable, element);\n",
              "          const docLink = document.createElement('div');\n",
              "          docLink.innerHTML = docLinkHtml;\n",
              "          element.appendChild(docLink);\n",
              "        }\n",
              "      </script>\n",
              "    </div>\n",
              "  </div>\n",
              "  "
            ]
          },
          "metadata": {},
          "execution_count": 55
        }
      ]
    },
    {
      "cell_type": "code",
      "source": [],
      "metadata": {
        "id": "QWrm3w8zfONt"
      },
      "execution_count": null,
      "outputs": []
    },
    {
      "cell_type": "code",
      "source": [
        "# Challenge A\n",
        "#\n",
        "# What is the most recent unemployment rate? And the corresponding date? \n",
        "# Display the unemployment rate using a percent sign.\n",
        "\n",
        "print(\"-------------------------\")\n",
        "print(\"LATEST UNEMPLOYMENT RATE:\")\n",
        "\n"
      ],
      "metadata": {
        "colab": {
          "base_uri": "https://localhost:8080/"
        },
        "id": "252lFJlGfRKm",
        "outputId": "dc1f429b-6621-4461-da82-69af5cdfc574"
      },
      "execution_count": null,
      "outputs": [
        {
          "output_type": "stream",
          "name": "stdout",
          "text": [
            "-------------------------\n",
            "LATEST UNEMPLOYMENT RATE:\n"
          ]
        }
      ]
    },
    {
      "cell_type": "code",
      "source": [
        "\n",
        "# Challenge B\n",
        "# \n",
        "# What is the average unemployment rate for all months during this calendar year?\n",
        "# ... How many months does this cover?\n",
        "\n",
        "# https://stackoverflow.com/questions/11350770/filter-pandas-dataframe-by-substring-criteria\n",
        "# this_year_df = df[df[\"timestamp\"].str.contains(\"2022-\")]\n",
        "# print(this_year_df)\n",
        "\n"
      ],
      "metadata": {
        "id": "nGc5ZnXafTLt"
      },
      "execution_count": null,
      "outputs": []
    },
    {
      "cell_type": "code",
      "source": [
        "# Challenge C\n",
        "# \n",
        "# Plot a line chart of unemployment rates over time.\n",
        "\n",
        "from plotly.express import line\n",
        "\n",
        "## passing lists / series:\n",
        "#fig = line(x=df[\"timestamp\"], y=df[\"value\"], \n",
        "#           title=\"United States Unemployment Rate over time\", \n",
        "#           labels= {\"x\": \"Month\", \"y\": \"Unemployment Rate\"})\n",
        "#fig.show()"
      ],
      "metadata": {
        "id": "kxjMYntGfV-0"
      },
      "execution_count": null,
      "outputs": []
    },
    {
      "cell_type": "code",
      "source": [
        "from plotly.express import line\n",
        "\n",
        "# leveraging the pandas dataframe integration, referencing column names:\n",
        "#fig = line(df, x=\"timestamp\", y=\"value\", \n",
        "#           title=\"United States Unemployment Rate over time\", \n",
        "#           labels= {\"timestamp\": \"Month\", \"value\": \"Unemployment Rate\"})\n",
        "#fig.show()"
      ],
      "metadata": {
        "id": "NYtlKlsMkDfz"
      },
      "execution_count": null,
      "outputs": []
    }
  ]
}